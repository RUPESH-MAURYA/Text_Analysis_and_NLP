{
 "cells": [
  {
   "cell_type": "code",
   "execution_count": 71,
   "metadata": {},
   "outputs": [],
   "source": [
    "import pandas as pd\n",
    "import numpy as np\n",
    "import matplotlib.pyplot as plt \n",
    "import seaborn as sns\n",
    "from prettytable import PrettyTable\n",
    "import re"
   ]
  },
  {
   "cell_type": "code",
   "execution_count": 72,
   "metadata": {},
   "outputs": [],
   "source": [
    "# loading df_train (cleaned data)\n",
    "df_train = pd.read_csv('df_train.csv')\n"
   ]
  },
  {
   "cell_type": "code",
   "execution_count": 73,
   "metadata": {},
   "outputs": [
    {
     "data": {
      "text/html": [
       "<div>\n",
       "<style scoped>\n",
       "    .dataframe tbody tr th:only-of-type {\n",
       "        vertical-align: middle;\n",
       "    }\n",
       "\n",
       "    .dataframe tbody tr th {\n",
       "        vertical-align: top;\n",
       "    }\n",
       "\n",
       "    .dataframe thead th {\n",
       "        text-align: right;\n",
       "    }\n",
       "</style>\n",
       "<table border=\"1\" class=\"dataframe\">\n",
       "  <thead>\n",
       "    <tr style=\"text-align: right;\">\n",
       "      <th></th>\n",
       "      <th>teacher_prefix</th>\n",
       "      <th>school_state</th>\n",
       "      <th>project_grade_category</th>\n",
       "      <th>project_subject_categories</th>\n",
       "      <th>project_subject_subcategories</th>\n",
       "      <th>teacher_number_of_previously_posted_projects</th>\n",
       "      <th>project_is_approved</th>\n",
       "      <th>quantity</th>\n",
       "      <th>price</th>\n",
       "      <th>preprocessed_titles</th>\n",
       "      <th>preprocessed_essays</th>\n",
       "      <th>preprocessed_resource_summary</th>\n",
       "      <th>number_present</th>\n",
       "    </tr>\n",
       "  </thead>\n",
       "  <tbody>\n",
       "    <tr>\n",
       "      <th>0</th>\n",
       "      <td>mrs</td>\n",
       "      <td>in</td>\n",
       "      <td>grades_prek_2</td>\n",
       "      <td>literacy_language</td>\n",
       "      <td>esl_literacy</td>\n",
       "      <td>0</td>\n",
       "      <td>0</td>\n",
       "      <td>23</td>\n",
       "      <td>154.60</td>\n",
       "      <td>educational support english learners home</td>\n",
       "      <td>students english learners working english seco...</td>\n",
       "      <td>students need opportunities practice beginning...</td>\n",
       "      <td>0</td>\n",
       "    </tr>\n",
       "    <tr>\n",
       "      <th>1</th>\n",
       "      <td>mr</td>\n",
       "      <td>fl</td>\n",
       "      <td>grades_6_8</td>\n",
       "      <td>history_civics_health_sports</td>\n",
       "      <td>civics_government_teamsports</td>\n",
       "      <td>7</td>\n",
       "      <td>1</td>\n",
       "      <td>1</td>\n",
       "      <td>299.00</td>\n",
       "      <td>wanted projector hungry learners</td>\n",
       "      <td>students arrive school eager learn polite gene...</td>\n",
       "      <td>students need projector help viewing education...</td>\n",
       "      <td>0</td>\n",
       "    </tr>\n",
       "    <tr>\n",
       "      <th>2</th>\n",
       "      <td>ms</td>\n",
       "      <td>az</td>\n",
       "      <td>grades_6_8</td>\n",
       "      <td>health_sports</td>\n",
       "      <td>health_wellness_teamsports</td>\n",
       "      <td>1</td>\n",
       "      <td>0</td>\n",
       "      <td>22</td>\n",
       "      <td>516.85</td>\n",
       "      <td>soccer equipment awesome middle school students</td>\n",
       "      <td>true champions not always ones win guts mia ha...</td>\n",
       "      <td>students need shine guards athletic socks socc...</td>\n",
       "      <td>0</td>\n",
       "    </tr>\n",
       "    <tr>\n",
       "      <th>3</th>\n",
       "      <td>mrs</td>\n",
       "      <td>ky</td>\n",
       "      <td>grades_prek_2</td>\n",
       "      <td>literacy_language_math_science</td>\n",
       "      <td>literacy_mathematics</td>\n",
       "      <td>4</td>\n",
       "      <td>1</td>\n",
       "      <td>4</td>\n",
       "      <td>232.90</td>\n",
       "      <td>techie kindergarteners</td>\n",
       "      <td>work unique school filled esl english second l...</td>\n",
       "      <td>students need engage reading math way inspire ...</td>\n",
       "      <td>0</td>\n",
       "    </tr>\n",
       "    <tr>\n",
       "      <th>4</th>\n",
       "      <td>mrs</td>\n",
       "      <td>tx</td>\n",
       "      <td>grades_prek_2</td>\n",
       "      <td>math_science</td>\n",
       "      <td>mathematics</td>\n",
       "      <td>1</td>\n",
       "      <td>1</td>\n",
       "      <td>4</td>\n",
       "      <td>67.98</td>\n",
       "      <td>interactive math tools</td>\n",
       "      <td>second grade classroom next year made around 2...</td>\n",
       "      <td>students need hands practice mathematics fun p...</td>\n",
       "      <td>0</td>\n",
       "    </tr>\n",
       "  </tbody>\n",
       "</table>\n",
       "</div>"
      ],
      "text/plain": [
       "  teacher_prefix school_state project_grade_category  \\\n",
       "0            mrs           in          grades_prek_2   \n",
       "1             mr           fl             grades_6_8   \n",
       "2             ms           az             grades_6_8   \n",
       "3            mrs           ky          grades_prek_2   \n",
       "4            mrs           tx          grades_prek_2   \n",
       "\n",
       "       project_subject_categories project_subject_subcategories  \\\n",
       "0               literacy_language                  esl_literacy   \n",
       "1    history_civics_health_sports  civics_government_teamsports   \n",
       "2                   health_sports    health_wellness_teamsports   \n",
       "3  literacy_language_math_science          literacy_mathematics   \n",
       "4                    math_science                   mathematics   \n",
       "\n",
       "   teacher_number_of_previously_posted_projects  project_is_approved  \\\n",
       "0                                             0                    0   \n",
       "1                                             7                    1   \n",
       "2                                             1                    0   \n",
       "3                                             4                    1   \n",
       "4                                             1                    1   \n",
       "\n",
       "   quantity   price                              preprocessed_titles  \\\n",
       "0        23  154.60        educational support english learners home   \n",
       "1         1  299.00                 wanted projector hungry learners   \n",
       "2        22  516.85  soccer equipment awesome middle school students   \n",
       "3         4  232.90                           techie kindergarteners   \n",
       "4         4   67.98                           interactive math tools   \n",
       "\n",
       "                                 preprocessed_essays  \\\n",
       "0  students english learners working english seco...   \n",
       "1  students arrive school eager learn polite gene...   \n",
       "2  true champions not always ones win guts mia ha...   \n",
       "3  work unique school filled esl english second l...   \n",
       "4  second grade classroom next year made around 2...   \n",
       "\n",
       "                       preprocessed_resource_summary  number_present  \n",
       "0  students need opportunities practice beginning...               0  \n",
       "1  students need projector help viewing education...               0  \n",
       "2  students need shine guards athletic socks socc...               0  \n",
       "3  students need engage reading math way inspire ...               0  \n",
       "4  students need hands practice mathematics fun p...               0  "
      ]
     },
     "execution_count": 73,
     "metadata": {},
     "output_type": "execute_result"
    }
   ],
   "source": [
    "#droping Unnamed column\n",
    "df_train.drop('Unnamed: 0',axis=1,inplace=True)\n",
    "df_train.head(5)"
   ]
  },
  {
   "cell_type": "code",
   "execution_count": 74,
   "metadata": {},
   "outputs": [
    {
     "data": {
      "text/plain": [
       "teacher_prefix                                   0\n",
       "school_state                                     0\n",
       "project_grade_category                           0\n",
       "project_subject_categories                       0\n",
       "project_subject_subcategories                    0\n",
       "teacher_number_of_previously_posted_projects     0\n",
       "project_is_approved                              0\n",
       "quantity                                         0\n",
       "price                                            0\n",
       "preprocessed_titles                             43\n",
       "preprocessed_essays                              0\n",
       "preprocessed_resource_summary                    0\n",
       "number_present                                   0\n",
       "dtype: int64"
      ]
     },
     "execution_count": 74,
     "metadata": {},
     "output_type": "execute_result"
    }
   ],
   "source": [
    "#checking for null value\n",
    "df_train.isnull().sum()"
   ]
  },
  {
   "cell_type": "markdown",
   "metadata": {},
   "source": [
    "preprocessed_title have 43 NULL values, we will drop the null row "
   ]
  },
  {
   "cell_type": "code",
   "execution_count": 75,
   "metadata": {},
   "outputs": [
    {
     "data": {
      "text/plain": [
       "Int64Index([   880,   3517,   7503,   9019,   9518,  12390,  15617,  17652,\n",
       "             17798,  18915,  19122,  19731,  19772,  21484,  24024,  25089,\n",
       "             29208,  32089,  32608,  34091,  41656,  41797,  45844,  50004,\n",
       "             50526,  54464,  54781,  56857,  57432,  59766,  63032,  68453,\n",
       "             68821,  73774,  74264,  77851,  80909,  81581,  93213,  94369,\n",
       "            101144, 102430, 106760],\n",
       "           dtype='int64')"
      ]
     },
     "execution_count": 75,
     "metadata": {},
     "output_type": "execute_result"
    }
   ],
   "source": [
    "#index of rows having null values in preprocessed_title column \n",
    "row_drop=df_train[df_train['preprocessed_titles'].isnull()==True].index\n",
    "row_drop"
   ]
  },
  {
   "cell_type": "code",
   "execution_count": 76,
   "metadata": {},
   "outputs": [
    {
     "name": "stdout",
     "output_type": "stream",
     "text": [
      "Shape of df_train before drop  (109248, 13)\n",
      "Shape of df_train after drop  (109205, 13)\n"
     ]
    }
   ],
   "source": [
    "print('Shape of df_train before drop ',df_train.shape)\n",
    "\n",
    "# droping the row \n",
    "df_train.drop(row_drop,axis=0,inplace=True)\n",
    "\n",
    "print('Shape of df_train after drop ',df_train.shape)"
   ]
  },
  {
   "cell_type": "code",
   "execution_count": 77,
   "metadata": {},
   "outputs": [
    {
     "data": {
      "text/plain": [
       "1    92680\n",
       "0    16525\n",
       "Name: project_is_approved, dtype: int64"
      ]
     },
     "execution_count": 77,
     "metadata": {},
     "output_type": "execute_result"
    }
   ],
   "source": [
    "#checking of data is balanced or not\n",
    "df_train['project_is_approved'].value_counts()"
   ]
  },
  {
   "cell_type": "markdown",
   "metadata": {},
   "source": [
    "- data is imbalanced"
   ]
  },
  {
   "cell_type": "code",
   "execution_count": 78,
   "metadata": {},
   "outputs": [],
   "source": [
    "# creating dependent variable and independent varibale\n",
    "X= df_train.drop('project_is_approved',axis=1)\n",
    "Y=df_train['project_is_approved']"
   ]
  },
  {
   "cell_type": "markdown",
   "metadata": {},
   "source": [
    "# splitting the data train , cross validation and test set "
   ]
  },
  {
   "cell_type": "code",
   "execution_count": 79,
   "metadata": {},
   "outputs": [],
   "source": [
    "from sklearn.model_selection import train_test_split\n",
    "X_train, X_test, y_train, y_test =train_test_split(X, Y, test_size=0.33,stratify=Y)\n",
    "X_train, X_cv, y_train, y_cv =train_test_split(X_train, y_train, test_size=0.33,stratify=y_train)\n"
   ]
  },
  {
   "cell_type": "markdown",
   "metadata": {},
   "source": [
    "# Using BoW "
   ]
  },
  {
   "cell_type": "code",
   "execution_count": 80,
   "metadata": {},
   "outputs": [],
   "source": [
    "#storing the feature name created for getting top 20 feature name\n",
    "feature_name=[]"
   ]
  },
  {
   "cell_type": "markdown",
   "metadata": {},
   "source": [
    "## 1. BoW for preprocessed essay "
   ]
  },
  {
   "cell_type": "code",
   "execution_count": 81,
   "metadata": {},
   "outputs": [
    {
     "name": "stdout",
     "output_type": "stream",
     "text": [
      "After vectorizations\n",
      "(49021, 5000) (49021,)\n",
      "(24146, 5000) (24146,)\n",
      "(36038, 5000) (36038,)\n",
      "====================================================================================================\n"
     ]
    }
   ],
   "source": [
    "#bag of word \n",
    "from sklearn.feature_extraction.text import CountVectorizer\n",
    "\n",
    "vectorizer = CountVectorizer(min_df=10,ngram_range=(1,6), max_features=5000)\n",
    "vectorizer.fit(X_train['preprocessed_essays'].values) # fit has to happen only on train data\n",
    "\n",
    "# we use the fitted CountVectorizer to convert the text to vector\n",
    "X_train_essay_bow = vectorizer.transform(X_train['preprocessed_essays'].values)\n",
    "X_cv_essay_bow = vectorizer.transform(X_cv['preprocessed_essays'].values)\n",
    "X_test_essay_bow = vectorizer.transform(X_test['preprocessed_essays'].values)\n",
    "\n",
    "print(\"After vectorizations\")\n",
    "print(X_train_essay_bow.shape, y_train.shape)\n",
    "print(X_cv_essay_bow.shape,y_cv.shape)\n",
    "print(X_test_essay_bow.shape, y_test.shape)\n",
    "print(\"=\"*100)\n",
    "\n",
    "#adding feature name to feature name list\n",
    "feature_name.extend(vectorizer.get_feature_names())"
   ]
  },
  {
   "cell_type": "markdown",
   "metadata": {},
   "source": [
    "## 2. Bow for project title \n"
   ]
  },
  {
   "cell_type": "code",
   "execution_count": 82,
   "metadata": {},
   "outputs": [
    {
     "name": "stdout",
     "output_type": "stream",
     "text": [
      "(24146, 3423)\n",
      "(24146, 3423)\n",
      "(36038, 3423)\n"
     ]
    }
   ],
   "source": [
    "vectorizer = CountVectorizer(min_df=10,ngram_range=(1,4), max_features=5000)\n",
    "\n",
    "vectorizer.fit(X_train['preprocessed_titles'].values) #fitting on train set \n",
    "\n",
    "x_train_title_bow=vectorizer.transform(X_train['preprocessed_titles'].values) # transforming train set \n",
    "X_cv_title_bow=vectorizer.transform(X_cv['preprocessed_titles'].values)  # transforming cross validation set \n",
    "X_test_title_bow=vectorizer.transform(X_test['preprocessed_titles'].values) # transforming test test \n",
    "\n",
    "\n",
    "print(X_cv_title_bow.shape)\n",
    "print(X_cv_title_bow.shape)\n",
    "print(X_test_title_bow.shape)\n",
    "\n",
    "\n",
    "#adding feature name to feature name list\n",
    "feature_name.extend(vectorizer.get_feature_names())"
   ]
  },
  {
   "cell_type": "markdown",
   "metadata": {},
   "source": [
    "## 3. Bow for preprocessed_resource_summary"
   ]
  },
  {
   "cell_type": "code",
   "execution_count": 83,
   "metadata": {},
   "outputs": [
    {
     "name": "stdout",
     "output_type": "stream",
     "text": [
      "(24146, 5000)\n",
      "(24146, 5000)\n",
      "(36038, 5000)\n"
     ]
    }
   ],
   "source": [
    "vectorizer = CountVectorizer(min_df=10,ngram_range=(1,4), max_features=5000)\n",
    "\n",
    "vectorizer.fit(X_train['preprocessed_resource_summary'].values) #fitting on train set \n",
    "\n",
    "x_train_summ_bow=vectorizer.transform(X_train['preprocessed_resource_summary'].values) # transforming train set \n",
    "X_cv_summ_bow=vectorizer.transform(X_cv['preprocessed_resource_summary'].values)  # transforming cross validation set \n",
    "X_test_summ_bow=vectorizer.transform(X_test['preprocessed_resource_summary'].values) # transforming test test \n",
    "\n",
    "\n",
    "print(X_cv_summ_bow.shape)\n",
    "print(X_cv_summ_bow.shape)\n",
    "print(X_test_summ_bow.shape)\n",
    "\n",
    "\n",
    "#adding feature name to feature name list\n",
    "feature_name.extend(vectorizer.get_feature_names())\n"
   ]
  },
  {
   "cell_type": "markdown",
   "metadata": {},
   "source": [
    "## 4. One of encoding for 'school_state'"
   ]
  },
  {
   "cell_type": "code",
   "execution_count": 84,
   "metadata": {},
   "outputs": [
    {
     "name": "stdout",
     "output_type": "stream",
     "text": [
      "After vectorizations\n",
      "(49021, 51) (49021,)\n",
      "(24146, 51) (24146,)\n",
      "(36038, 51) (36038,)\n",
      "['ak', 'al', 'ar', 'az', 'ca', 'co', 'ct', 'dc', 'de', 'fl', 'ga', 'hi', 'ia', 'id', 'il', 'in', 'ks', 'ky', 'la', 'ma', 'md', 'me', 'mi', 'mn', 'mo', 'ms', 'mt', 'nc', 'nd', 'ne', 'nh', 'nj', 'nm', 'nv', 'ny', 'oh', 'ok', 'or', 'pa', 'ri', 'sc', 'sd', 'tn', 'tx', 'ut', 'va', 'vt', 'wa', 'wi', 'wv', 'wy']\n",
      "====================================================================================================\n"
     ]
    }
   ],
   "source": [
    "vectorizer = CountVectorizer()\n",
    "vectorizer.fit(X_train['school_state'].values) # fit has to happen only on train data\n",
    "\n",
    "# we use the fitted CountVectorizer to convert the text to vector\n",
    "X_train_state_ohe = vectorizer.transform(X_train['school_state'].values)\n",
    "X_cv_state_ohe = vectorizer.transform(X_cv['school_state'].values)\n",
    "X_test_state_ohe = vectorizer.transform(X_test['school_state'].values)\n",
    "\n",
    "print(\"After vectorizations\")\n",
    "print(X_train_state_ohe.shape, y_train.shape)\n",
    "print(X_cv_state_ohe.shape, y_cv.shape)\n",
    "print(X_test_state_ohe.shape, y_test.shape)\n",
    "print(vectorizer.get_feature_names())\n",
    "print(\"=\"*100)\n",
    "\n",
    "\n",
    "\n",
    "#adding feature name to feature name list\n",
    "feature_name.extend(vectorizer.get_feature_names())"
   ]
  },
  {
   "cell_type": "markdown",
   "metadata": {},
   "source": [
    "## 5. one hot encoding teacher_prefix"
   ]
  },
  {
   "cell_type": "code",
   "execution_count": 85,
   "metadata": {},
   "outputs": [
    {
     "name": "stdout",
     "output_type": "stream",
     "text": [
      "After vectorizations\n",
      "(49021, 5) (49021,)\n",
      "(24146, 5) (24146,)\n",
      "(36038, 5) (36038,)\n",
      "['dr', 'mr', 'mrs', 'ms', 'teacher']\n",
      "====================================================================================================\n"
     ]
    }
   ],
   "source": [
    "vectorizer = CountVectorizer()\n",
    "vectorizer.fit(X_train['teacher_prefix'].values) # fit has to happen only on train data\n",
    "\n",
    "# we use the fitted CountVectorizer to convert the text to vector\n",
    "X_train_teacher_ohe = vectorizer.transform(X_train['teacher_prefix'].values)\n",
    "X_cv_teacher_ohe = vectorizer.transform(X_cv['teacher_prefix'].values)\n",
    "X_test_teacher_ohe = vectorizer.transform(X_test['teacher_prefix'].values)\n",
    "\n",
    "print(\"After vectorizations\")\n",
    "print(X_train_teacher_ohe.shape, y_train.shape)\n",
    "print(X_cv_teacher_ohe.shape, y_cv.shape)\n",
    "print(X_test_teacher_ohe.shape, y_test.shape)\n",
    "print(vectorizer.get_feature_names())\n",
    "print(\"=\"*100)\n",
    "\n",
    "\n",
    "\n",
    "#adding feature name to feature name list\n",
    "feature_name.extend(vectorizer.get_feature_names())"
   ]
  },
  {
   "cell_type": "markdown",
   "metadata": {},
   "source": [
    "## 6. one hot encoding project_grade_category"
   ]
  },
  {
   "cell_type": "code",
   "execution_count": 86,
   "metadata": {},
   "outputs": [
    {
     "name": "stdout",
     "output_type": "stream",
     "text": [
      "After vectorizations\n",
      "(49021, 4) (49021,)\n",
      "(24146, 4) (24146,)\n",
      "(36038, 4) (36038,)\n",
      "['grades_3_5', 'grades_6_8', 'grades_9_12', 'grades_prek_2']\n",
      "====================================================================================================\n"
     ]
    }
   ],
   "source": [
    "vectorizer = CountVectorizer()\n",
    "vectorizer.fit(X_train['project_grade_category'].values) # fit has to happen only on train data\n",
    "\n",
    "# we use the fitted CountVectorizer to convert the text to vector\n",
    "X_train_grade_ohe = vectorizer.transform(X_train['project_grade_category'].values)\n",
    "X_cv_grade_ohe = vectorizer.transform(X_cv['project_grade_category'].values)\n",
    "X_test_grade_ohe = vectorizer.transform(X_test['project_grade_category'].values)\n",
    "\n",
    "print(\"After vectorizations\")\n",
    "print(X_train_grade_ohe.shape, y_train.shape)\n",
    "print(X_cv_grade_ohe.shape, y_cv.shape)\n",
    "print(X_test_grade_ohe.shape, y_test.shape)\n",
    "print(vectorizer.get_feature_names())\n",
    "print(\"=\"*100)\n",
    "\n",
    "\n",
    "\n",
    "#adding feature name to feature name list\n",
    "feature_name.extend(vectorizer.get_feature_names())"
   ]
  },
  {
   "cell_type": "markdown",
   "metadata": {},
   "source": [
    "## 7. one hot encoding project_subject_categories"
   ]
  },
  {
   "cell_type": "code",
   "execution_count": 87,
   "metadata": {},
   "outputs": [
    {
     "name": "stdout",
     "output_type": "stream",
     "text": [
      "After vectorizations\n",
      "(49021, 50) (49021,)\n",
      "(24146, 50) (24146,)\n",
      "(36038, 50) (36038,)\n",
      "['appliedlearning', 'appliedlearning_health_sports', 'appliedlearning_history_civics', 'appliedlearning_literacy_language', 'appliedlearning_math_science', 'appliedlearning_music_arts', 'appliedlearning_specialneeds', 'appliedlearning_warmth_care_hunger', 'health_sports', 'health_sports_appliedlearning', 'health_sports_history_civics', 'health_sports_literacy_language', 'health_sports_math_science', 'health_sports_music_arts', 'health_sports_specialneeds', 'health_sports_warmth_care_hunger', 'history_civics', 'history_civics_appliedlearning', 'history_civics_health_sports', 'history_civics_literacy_language', 'history_civics_math_science', 'history_civics_music_arts', 'history_civics_specialneeds', 'history_civics_warmth_care_hunger', 'literacy_language', 'literacy_language_appliedlearning', 'literacy_language_health_sports', 'literacy_language_history_civics', 'literacy_language_math_science', 'literacy_language_music_arts', 'literacy_language_specialneeds', 'literacy_language_warmth_care_hunger', 'math_science', 'math_science_appliedlearning', 'math_science_health_sports', 'math_science_history_civics', 'math_science_literacy_language', 'math_science_music_arts', 'math_science_specialneeds', 'math_science_warmth_care_hunger', 'music_arts', 'music_arts_appliedlearning', 'music_arts_health_sports', 'music_arts_history_civics', 'music_arts_specialneeds', 'specialneeds', 'specialneeds_health_sports', 'specialneeds_music_arts', 'specialneeds_warmth_care_hunger', 'warmth_care_hunger']\n",
      "====================================================================================================\n"
     ]
    }
   ],
   "source": [
    "vectorizer = CountVectorizer()\n",
    "vectorizer.fit(X_train['project_subject_categories'].values) # fit has to happen only on train data\n",
    "\n",
    "# we use the fitted CountVectorizer to convert the text to vector\n",
    "X_train_categories_ohe = vectorizer.transform(X_train['project_subject_categories'].values)\n",
    "X_cv_categories_ohe = vectorizer.transform(X_cv['project_subject_categories'].values)\n",
    "X_test_categories_ohe = vectorizer.transform(X_test['project_subject_categories'].values)\n",
    "\n",
    "print(\"After vectorizations\")\n",
    "print(X_train_categories_ohe.shape, y_train.shape)\n",
    "print(X_cv_categories_ohe.shape, y_cv.shape)\n",
    "print(X_test_categories_ohe.shape, y_test.shape)\n",
    "print(vectorizer.get_feature_names())\n",
    "print(\"=\"*100)\n",
    "\n",
    "\n",
    "\n",
    "\n",
    "#adding feature name to feature name list\n",
    "feature_name.extend(vectorizer.get_feature_names())\n"
   ]
  },
  {
   "cell_type": "markdown",
   "metadata": {},
   "source": [
    "## 8. one hot encoding project_subject_categories"
   ]
  },
  {
   "cell_type": "code",
   "execution_count": 89,
   "metadata": {},
   "outputs": [
    {
     "name": "stdout",
     "output_type": "stream",
     "text": [
      "After vectorizations\n",
      "(49021, 372) (49021,)\n",
      "(24146, 372) (24146,)\n",
      "(36038, 372) (36038,)\n",
      "====================================================================================================\n"
     ]
    }
   ],
   "source": [
    "vectorizer = CountVectorizer()\n",
    "vectorizer.fit(X_train['project_subject_subcategories'].values) # fit has to happen only on train data\n",
    "\n",
    "# we use the fitted CountVectorizer to convert the text to vector\n",
    "X_train_subcategories_ohe = vectorizer.transform(X_train['project_subject_subcategories'].values)\n",
    "X_cv_subcategories_ohe = vectorizer.transform(X_cv['project_subject_subcategories'].values)\n",
    "X_test_subcategories_ohe = vectorizer.transform(X_test['project_subject_subcategories'].values)\n",
    "\n",
    "print(\"After vectorizations\")\n",
    "print(X_train_subcategories_ohe.shape, y_train.shape)\n",
    "print(X_cv_subcategories_ohe.shape, y_cv.shape)\n",
    "print(X_test_subcategories_ohe.shape, y_test.shape)\n",
    "# print(vectorizer.get_feature_names())\n",
    "print(\"=\"*100)\n",
    "\n",
    "\n",
    "\n",
    "#adding feature name to feature name list\n",
    "feature_name.extend(vectorizer.get_feature_names())"
   ]
  },
  {
   "cell_type": "markdown",
   "metadata": {},
   "source": [
    "## Normalizing numerical feature\n",
    "\n",
    "\n",
    "## 9.price"
   ]
  },
  {
   "cell_type": "code",
   "execution_count": 90,
   "metadata": {},
   "outputs": [],
   "source": [
    "\n",
    "from sklearn.preprocessing import Normalizer\n",
    "normalizer = Normalizer()\n",
    "\n",
    "normalizer.fit(X_train['price'].values.reshape(1,-1))\n",
    "\n",
    "X_train_price_norm = normalizer.transform(X_train['price'].values.reshape(1,-1))\n",
    "X_cv_price_norm = normalizer.transform(X_cv['price'].values.reshape(1,-1))\n",
    "X_test_price_norm = normalizer.transform(X_test['price'].values.reshape(1,-1))\n",
    "\n",
    "#adding feature name to feature name list\n",
    "feature_name.append('price')"
   ]
  },
  {
   "cell_type": "markdown",
   "metadata": {},
   "source": [
    "## 10. quantity"
   ]
  },
  {
   "cell_type": "code",
   "execution_count": 91,
   "metadata": {},
   "outputs": [],
   "source": [
    "normalizer.fit(X_train['quantity'].values.reshape(1,-1))\n",
    "\n",
    "X_train_quantity_norm = normalizer.transform(X_train['quantity'].values.reshape(1,-1))\n",
    "X_cv_quantity_norm = normalizer.transform(X_cv['quantity'].values.reshape(1,-1))\n",
    "X_test_quantity_norm = normalizer.transform(X_test['quantity'].values.reshape(1,-1))\n",
    "\n",
    "\n",
    "#adding feature name to feature name list\n",
    "feature_name.append('quantity')"
   ]
  },
  {
   "cell_type": "markdown",
   "metadata": {},
   "source": [
    "## 11. teacher_number_of_previously_posted_projects"
   ]
  },
  {
   "cell_type": "code",
   "execution_count": 92,
   "metadata": {},
   "outputs": [],
   "source": [
    "normalizer.fit(X_train['teacher_number_of_previously_posted_projects'].values.reshape(1,-1))\n",
    "\n",
    "X_train_number_norm = normalizer.transform(X_train['teacher_number_of_previously_posted_projects'].values.reshape(1,-1))\n",
    "X_cv_number_norm = normalizer.transform(X_cv['teacher_number_of_previously_posted_projects'].values.reshape(1,-1))\n",
    "X_test_number_norm = normalizer.transform(X_test['teacher_number_of_previously_posted_projects'].values.reshape(1,-1))\n",
    "\n",
    "\n",
    "feature_name.append('teacher_number_of_previously_posted_projects')\n",
    "\n",
    "# adding feature number_present i.e binary feature number present in recourse summary or not\n",
    "feature_name.append('number_present')"
   ]
  },
  {
   "cell_type": "markdown",
   "metadata": {},
   "source": [
    "# Concatinating all the features"
   ]
  },
  {
   "cell_type": "code",
   "execution_count": 93,
   "metadata": {},
   "outputs": [
    {
     "name": "stdout",
     "output_type": "stream",
     "text": [
      "Final Data matrix\n",
      "(49021, 13909) (49021,)\n",
      "(24146, 13909) (24146,)\n",
      "(36038, 13909) (36038,)\n",
      "14281\n",
      "====================================================================================================\n"
     ]
    }
   ],
   "source": [
    "\n",
    "# merge two sparse matrices: https://stackoverflow.com/a/19710648/4084039\n",
    "from scipy.sparse import hstack\n",
    "X_tr = hstack((X_train_essay_bow,x_train_title_bow,x_train_summ_bow, X_train_state_ohe, X_train_teacher_ohe, X_train_grade_ohe, X_train_price_norm.reshape(-1,1),\\\n",
    "               X_train_number_norm.reshape(-1,1),X_train_quantity_norm.reshape(-1,1),X_train_subcategories_ohe,X_train_categories_ohe,X_train['number_present'].values.reshape(-1,1))).tocsr()\n",
    "\n",
    "\n",
    "X_cr = hstack((X_cv_essay_bow,X_cv_title_bow,X_cv_summ_bow, X_cv_state_ohe, X_cv_teacher_ohe, X_cv_grade_ohe, X_cv_price_norm.reshape(-1,1),\\\n",
    "              X_cv_number_norm.reshape(-1,1),X_cv_quantity_norm.reshape(-1,1),X_cv_subcategories_ohe,X_cv_categories_ohe,X_cv['number_present'].values.reshape(-1,1))).tocsr()\n",
    "\n",
    "\n",
    "\n",
    "X_te = hstack((X_test_essay_bow,X_test_title_bow,X_test_summ_bow, X_test_state_ohe, X_test_teacher_ohe, X_test_grade_ohe, X_test_price_norm.reshape(-1,1),\\\n",
    "              X_test_number_norm.reshape(-1,1),X_test_quantity_norm.reshape(-1,1),X_test_subcategories_ohe,X_test_categories_ohe,X_test['number_present'].values.reshape(-1,1))).tocsr()\n",
    "\n",
    "print(\"Final Data matrix\")\n",
    "print(X_tr.shape, y_train.shape)\n",
    "print(X_cr.shape, y_cv.shape)\n",
    "print(X_te.shape, y_test.shape)\n",
    "print(len(feature_name))\n",
    "print(\"=\"*100)"
   ]
  },
  {
   "cell_type": "markdown",
   "metadata": {},
   "source": [
    "# Performing Naive bayes algorithm to obtain best hyperparameter "
   ]
  },
  {
   "cell_type": "code",
   "execution_count": 94,
   "metadata": {},
   "outputs": [
    {
     "data": {
      "image/png": "[encoded data removed]",
      "text/plain": [
       "<Figure size 432x288 with 1 Axes>"
      ]
     },
     "metadata": {},
     "output_type": "display_data"
    }
   ],
   "source": [
    "# grid search using simple for loop for different value of alpha[0.00001,0.0005, 0.0001,0.005,0.001,0.05,0.01,0.1,0.5,1,5,10,50,100]\n",
    "# using multinomial naive bayes \n",
    "from sklearn.naive_bayes import MultinomialNB\n",
    "from sklearn.metrics import roc_auc_score\n",
    "\n",
    "\n",
    "#list to store AUC score for different hyperparameter\n",
    "train_auc = []\n",
    "cv_auc = []\n",
    "\n",
    "alpha= [0.00001,0.0005, 0.0001,0.005,0.001,0.05,0.01,0.1,0.5,1,5,10,50,100]\n",
    "for i in alpha:\n",
    "    clf = MultinomialNB(alpha=i, fit_prior=False, class_prior=[0.5,0.5])\n",
    "    clf.fit(X_tr,y_train)\n",
    "    \n",
    "    #predicting the probability score for train and cross validate set \n",
    "    y_train_proba=clf.predict_proba(X_tr)\n",
    "    y_CV_proba=clf.predict_proba(X_cr)\n",
    "    \n",
    "    #storing the hyperparameter\n",
    "    train_auc.append(roc_auc_score(y_train,y_train_proba[:,1]))\n",
    "    cv_auc.append(roc_auc_score(y_cv,y_CV_proba[:,1]))\n",
    "\n",
    "    \n",
    "    \n",
    "plt.plot(alpha,train_auc,label='Train AUC')\n",
    "plt.plot(alpha,cv_auc,label='CV AUC')\n",
    "\n",
    "plt.scatter(alpha, train_auc)\n",
    "plt.scatter(alpha, cv_auc )\n",
    "\n",
    "plt.legend()\n",
    "plt.xlabel(\"alpha: hyperparameter\")\n",
    "plt.ylabel(\"AUC\")\n",
    "plt.title(\"ERROR PLOTS\")\n",
    "plt.grid()\n",
    "plt.show()\n",
    "    \n",
    "    \n"
   ]
  },
  {
   "cell_type": "markdown",
   "metadata": {},
   "source": [
    "- At alpha(smoothing parameter)= 1 we get high AUC for both train and CV set \n",
    "- at alpah =100 we get low AUC for both set thus underfitting "
   ]
  },
  {
   "cell_type": "code",
   "execution_count": 95,
   "metadata": {},
   "outputs": [
    {
     "data": {
      "image/png": "[encoded data removed]",
      "text/plain": [
       "<Figure size 432x288 with 1 Axes>"
      ]
     },
     "metadata": {},
     "output_type": "display_data"
    }
   ],
   "source": [
    "from sklearn import metrics\n",
    "\n",
    "clf = MultinomialNB(alpha=1, fit_prior=False, class_prior=[0.5,0.5])\n",
    "clf.fit(X_tr,y_train)\n",
    "    \n",
    "#predicting the probability score for train and cross validate set \n",
    "y_test_proba=clf.predict_proba(X_te)\n",
    "y_train_proba=clf.predict_proba(X_tr)\n",
    "test_AUC_score_bow=roc_auc_score(y_test,y_test_proba[:,1])\n",
    "train_AUC_score_bow=roc_auc_score(y_train,y_train_proba[:,1])\n",
    "fpr, tpr, thresholds = metrics.roc_curve(y_test,y_test_proba[:,1], pos_label=1)\n",
    "fpr1, tpr1, thresholds1 = metrics.roc_curve(y_train,y_train_proba[:,1], pos_label=1)\n",
    "\n",
    "plt.plot(fpr,tpr,label='Test = '+str(test_AUC_score_bow))\n",
    "plt.plot(fpr1,tpr1,label='Train = '+str(train_AUC_score_bow))\n",
    "plt.legend()\n",
    "plt.xlabel('FPR')\n",
    "plt.ylabel('TPR')\n",
    "plt.title('ROC Curve')\n",
    "plt.grid()\n",
    "plt.show()"
   ]
  },
  {
   "cell_type": "markdown",
   "metadata": {},
   "source": [
    "# Confusion matrix "
   ]
  },
  {
   "cell_type": "code",
   "execution_count": 96,
   "metadata": {},
   "outputs": [],
   "source": [
    "from sklearn.metrics import confusion_matrix\n",
    "y_test_ped=clf.predict(X_te)\n",
    "conf_matrix=confusion_matrix(y_test,y_test_ped,labels=[1,0])\n"
   ]
  },
  {
   "cell_type": "code",
   "execution_count": 97,
   "metadata": {},
   "outputs": [
    {
     "data": {
      "text/plain": [
       "Text(0.5, 1.0, 'Cnfusion Matrix')"
      ]
     },
     "execution_count": 97,
     "metadata": {},
     "output_type": "execute_result"
    },
    {
     "data": {
      "image/png": "[encoded data removed]",
      "text/plain": [
       "<Figure size 432x288 with 1 Axes>"
      ]
     },
     "metadata": {},
     "output_type": "display_data"
    }
   ],
   "source": [
    "con=pd.DataFrame(conf_matrix,index=['Actual: Yes',\"Actual:No\"],columns=['Predicted:Yes','Predicted:No'])\n",
    "sns.set(font_scale=1.4)\n",
    "sns.heatmap(con,annot=True,cmap=\"YlOrBr\",cbar=False,fmt='g',annot_kws={\"size\": 18})\n",
    "plt.title('Cnfusion Matrix')"
   ]
  },
  {
   "cell_type": "markdown",
   "metadata": {},
   "source": [
    "# Top 20 feature "
   ]
  },
  {
   "cell_type": "code",
   "execution_count": 98,
   "metadata": {},
   "outputs": [],
   "source": [
    "clf = MultinomialNB(alpha=1, fit_prior=False, class_prior=[0.5,0.5])\n",
    "clf.fit(X_tr,y_train)\n",
    "\n",
    "feature_log_proba=clf.feature_log_prob_\n",
    "\n",
    "\n",
    "#probaility of feature (likelihood probability)\n",
    "feature_log_proba_positive=feature_log_proba[1]\n",
    "feature_log_proba_negative=feature_log_proba[0]\n",
    "\n",
    "\n",
    "# storing the indices of sorted array and reversing using slicing method\n",
    "indices_feature_log_proba_positive=feature_log_proba_positive.argsort()[::-1]\n",
    "\n",
    "indices_feature_log_proba_negative=feature_log_proba_negative.argsort()[::-1]\n",
    "\n",
    "l_positive=[]\n",
    "for i in indices_feature_log_proba_positive[:20]:\n",
    "    l_positive.append(feature_name[i])\n",
    "\n",
    "l_negative=[]\n",
    "for j in indices_feature_log_proba_negative[:20]:\n",
    "    l_negative.append(feature_name[j])"
   ]
  },
  {
   "cell_type": "markdown",
   "metadata": {},
   "source": [
    "## Top 20 feature for positive class"
   ]
  },
  {
   "cell_type": "code",
   "execution_count": 99,
   "metadata": {},
   "outputs": [
    {
     "name": "stdout",
     "output_type": "stream",
     "text": [
      "['students', 'school', 'learning', 'classroom', 'not', 'learn', 'help', 'students', 'need', 'students need', 'many', 'nannan', 'reading', 'work', 'need', 'use', 'love', 'day', 'able', 'come']\n"
     ]
    }
   ],
   "source": [
    "print(l_positive)"
   ]
  },
  {
   "cell_type": "markdown",
   "metadata": {},
   "source": [
    "## Top 20 feature for positive class"
   ]
  },
  {
   "cell_type": "code",
   "execution_count": 100,
   "metadata": {},
   "outputs": [
    {
     "name": "stdout",
     "output_type": "stream",
     "text": [
      "['students', 'school', 'learning', 'classroom', 'not', 'learn', 'students', 'help', 'need', 'students need', 'nannan', 'many', 'need', 'work', 'come', 'love', 'materials', 'reading', 'skills', 'able']\n"
     ]
    }
   ],
   "source": [
    "print(l_negative)"
   ]
  },
  {
   "cell_type": "code",
   "execution_count": null,
   "metadata": {},
   "outputs": [],
   "source": []
  },
  {
   "cell_type": "markdown",
   "metadata": {},
   "source": [
    "#  SET 2: Using TFIDF"
   ]
  },
  {
   "cell_type": "code",
   "execution_count": 101,
   "metadata": {},
   "outputs": [],
   "source": [
    "#storing the feature obtain by TFIDF\n",
    "feature_name_tfidf=[]"
   ]
  },
  {
   "cell_type": "markdown",
   "metadata": {},
   "source": [
    "# TFIDF of  preprocessed_essays"
   ]
  },
  {
   "cell_type": "code",
   "execution_count": 102,
   "metadata": {},
   "outputs": [
    {
     "name": "stdout",
     "output_type": "stream",
     "text": [
      "After vectorizations\n",
      "(49021, 5000) (49021,)\n",
      "(24146, 5000) (24146,)\n",
      "(36038, 5000) (36038,)\n",
      "====================================================================================================\n"
     ]
    }
   ],
   "source": [
    "from sklearn.feature_extraction.text import TfidfVectorizer\n",
    "vectorizer = TfidfVectorizer(min_df=10,ngram_range=(1,4), max_features=5000)\n",
    "\n",
    "\n",
    "#bag of word \n",
    "vectorizer.fit(X_train['preprocessed_essays'].values) # fit has to happen only on train data\n",
    "\n",
    "# we use the fitted CountVectorizer to convert the text to vector\n",
    "X_train_essay_tfidf = vectorizer.transform(X_train['preprocessed_essays'].values)\n",
    "X_cv_essay_tfidf = vectorizer.transform(X_cv['preprocessed_essays'].values)\n",
    "X_test_essay_tfidf = vectorizer.transform(X_test['preprocessed_essays'].values)\n",
    "\n",
    "print(\"After vectorizations\")\n",
    "print(X_train_essay_tfidf.shape, y_train.shape)\n",
    "print(X_cv_essay_tfidf.shape,y_cv.shape)\n",
    "print(X_test_essay_tfidf.shape, y_test.shape)\n",
    "print(\"=\"*100)\n",
    "\n",
    "\n",
    "#adding feature name to feature name list\n",
    "feature_name_tfidf.extend(vectorizer.get_feature_names())"
   ]
  },
  {
   "cell_type": "markdown",
   "metadata": {},
   "source": [
    "# TFIDF of preprocessed_titles"
   ]
  },
  {
   "cell_type": "code",
   "execution_count": 103,
   "metadata": {},
   "outputs": [
    {
     "name": "stdout",
     "output_type": "stream",
     "text": [
      "(24146, 3423)\n",
      "(24146, 3423)\n",
      "(36038, 3423)\n"
     ]
    }
   ],
   "source": [
    "vectorizer = TfidfVectorizer(min_df=10,ngram_range=(1,4), max_features=5000)\n",
    "vectorizer.fit(X_train['preprocessed_titles'].values) #fitting on train set \n",
    "\n",
    "x_train_title_tfidf=vectorizer.transform(X_train['preprocessed_titles'].values) # transforming train set \n",
    "X_cv_title_tfidf=vectorizer.transform(X_cv['preprocessed_titles'].values)  # transforming cross validation set \n",
    "X_test_title_tfidf=vectorizer.transform(X_test['preprocessed_titles'].values) # transforming test test \n",
    "\n",
    "\n",
    "print(X_cv_title_tfidf.shape)\n",
    "print(X_cv_title_tfidf.shape)\n",
    "print(X_test_title_tfidf.shape)\n",
    "\n",
    "\n",
    "#adding feature name to feature name list\n",
    "feature_name_tfidf.extend(vectorizer.get_feature_names())"
   ]
  },
  {
   "cell_type": "markdown",
   "metadata": {},
   "source": [
    "# TFIDF of preprocessed_resource_summary"
   ]
  },
  {
   "cell_type": "code",
   "execution_count": 104,
   "metadata": {},
   "outputs": [
    {
     "name": "stdout",
     "output_type": "stream",
     "text": [
      "(24146, 5000)\n",
      "(24146, 5000)\n",
      "(36038, 5000)\n"
     ]
    }
   ],
   "source": [
    "vectorizer = TfidfVectorizer(min_df=10,ngram_range=(1,4), max_features=5000)\n",
    "\n",
    "vectorizer.fit(X_train['preprocessed_resource_summary'].values) #fitting on train set \n",
    "\n",
    "x_train_summ_tfidf=vectorizer.transform(X_train['preprocessed_resource_summary'].values) # transforming train set \n",
    "X_cv_summ_tfidf=vectorizer.transform(X_cv['preprocessed_resource_summary'].values)  # transforming cross validation set \n",
    "X_test_summ_tfidf=vectorizer.transform(X_test['preprocessed_resource_summary'].values) # transforming test test \n",
    "\n",
    "\n",
    "print(X_cv_summ_tfidf.shape)\n",
    "print(X_cv_summ_tfidf.shape)\n",
    "print(X_test_summ_tfidf.shape)\n",
    "\n",
    "\n",
    "\n",
    "#adding feature name to feature name list\n",
    "feature_name_tfidf.extend(vectorizer.get_feature_names())"
   ]
  },
  {
   "cell_type": "code",
   "execution_count": 105,
   "metadata": {},
   "outputs": [],
   "source": [
    "# putting tfidf vector in place of bow vector in previously calculated feature list\n",
    "# and using already existing one hot encoded vectors name in the feature list \n",
    "feature_name[:len(feature_name_tfidf)]=feature_name_tfidf\n"
   ]
  },
  {
   "cell_type": "markdown",
   "metadata": {},
   "source": [
    "# Concatinating all the features"
   ]
  },
  {
   "cell_type": "code",
   "execution_count": 106,
   "metadata": {},
   "outputs": [
    {
     "name": "stdout",
     "output_type": "stream",
     "text": [
      "Final Data matrix\n",
      "(49021, 13909) (49021,)\n",
      "(24146, 13909) (24146,)\n",
      "(36038, 13909) (36038,)\n",
      "====================================================================================================\n"
     ]
    }
   ],
   "source": [
    "\n",
    "# merge two sparse matrices: https://stackoverflow.com/a/19710648/4084039\n",
    "from scipy.sparse import hstack\n",
    "X_tr = hstack((X_train_essay_tfidf,x_train_title_tfidf,x_train_summ_tfidf, X_train_state_ohe, X_train_teacher_ohe, X_train_grade_ohe, X_train_price_norm.reshape(-1,1),\\\n",
    "               X_train_number_norm.reshape(-1,1),X_train_quantity_norm.reshape(-1,1),X_train_subcategories_ohe,X_train_categories_ohe,X_train['number_present'].values.reshape(-1,1))).tocsr()\n",
    "\n",
    "\n",
    "X_cr = hstack((X_cv_essay_tfidf,X_cv_title_tfidf,X_cv_summ_tfidf, X_cv_state_ohe, X_cv_teacher_ohe, X_cv_grade_ohe, X_cv_price_norm.reshape(-1,1),\\\n",
    "              X_cv_number_norm.reshape(-1,1),X_cv_quantity_norm.reshape(-1,1),X_cv_subcategories_ohe,X_cv_categories_ohe,X_cv['number_present'].values.reshape(-1,1))).tocsr()\n",
    "\n",
    "\n",
    "\n",
    "X_te = hstack((X_test_essay_tfidf,X_test_title_tfidf,X_test_summ_tfidf, X_test_state_ohe, X_test_teacher_ohe, X_test_grade_ohe, X_test_price_norm.reshape(-1,1),\\\n",
    "              X_test_number_norm.reshape(-1,1),X_test_quantity_norm.reshape(-1,1),X_test_subcategories_ohe,X_test_categories_ohe,X_test['number_present'].values.reshape(-1,1))).tocsr()\n",
    "\n",
    "print(\"Final Data matrix\")\n",
    "print(X_tr.shape, y_train.shape)\n",
    "print(X_cr.shape, y_cv.shape)\n",
    "print(X_te.shape, y_test.shape)\n",
    "print(\"=\"*100)"
   ]
  },
  {
   "cell_type": "markdown",
   "metadata": {},
   "source": [
    "# Hyperparameter tunning "
   ]
  },
  {
   "cell_type": "code",
   "execution_count": 107,
   "metadata": {},
   "outputs": [
    {
     "data": {
      "image/png": "[encoded data removed]",
      "text/plain": [
       "<Figure size 432x288 with 1 Axes>"
      ]
     },
     "metadata": {},
     "output_type": "display_data"
    }
   ],
   "source": [
    "# grid search using simple for loop for different value of alpha[0.00001,0.0005, 0.0001,0.005,0.001,0.05,0.01,0.1,0.5,1,5,10,50,100]\n",
    "# using multinomial naive bayes \n",
    "from sklearn.naive_bayes import MultinomialNB\n",
    "from sklearn.metrics import roc_auc_score\n",
    "\n",
    "\n",
    "#list to store AUC score for different hyperparameter\n",
    "train_auc = []\n",
    "cv_auc = []\n",
    "\n",
    "alpha= [0.00001,0.0005, 0.0001,0.005,0.001,0.05,0.01,0.1,0.5,1,5,10,50,100]\n",
    "for i in alpha:\n",
    "    clf = MultinomialNB(alpha=i, fit_prior=False, class_prior=[0.5,0.5])\n",
    "    clf.fit(X_tr,y_train)\n",
    "    \n",
    "    #predicting the probability score for train and cross validate set \n",
    "    y_train_proba=clf.predict_proba(X_tr)\n",
    "    y_CV_proba=clf.predict_proba(X_cr)\n",
    "    \n",
    "    #storing the hyperparameter\n",
    "    train_auc.append(roc_auc_score(y_train,y_train_proba[:,1]))\n",
    "    cv_auc.append(roc_auc_score(y_cv,y_CV_proba[:,1]))\n",
    "\n",
    "    \n",
    "    \n",
    "plt.plot(alpha,train_auc,label='Train AUC')\n",
    "plt.plot(alpha,cv_auc,label='CV AUC')\n",
    "\n",
    "plt.scatter(alpha, train_auc)\n",
    "plt.scatter(alpha, cv_auc )\n",
    "\n",
    "plt.legend()\n",
    "plt.xlabel(\"alpha: hyperparameter\")\n",
    "plt.ylabel(\"AUC\")\n",
    "plt.title(\"ERROR PLOTS\")\n",
    "plt.grid()\n",
    "plt.show()\n",
    "    \n",
    "    "
   ]
  },
  {
   "cell_type": "markdown",
   "metadata": {},
   "source": [
    "- At alpha(smoothing parameter)= 1 we get high AUC for both train and CV set \n",
    "- at alpah =100 we get low AUC for both set thus underfitting "
   ]
  },
  {
   "cell_type": "markdown",
   "metadata": {},
   "source": [
    "# Performing Naive Bayes"
   ]
  },
  {
   "cell_type": "code",
   "execution_count": 108,
   "metadata": {},
   "outputs": [
    {
     "data": {
      "image/png": "[encoded data removed]",
      "text/plain": [
       "<Figure size 432x288 with 1 Axes>"
      ]
     },
     "metadata": {},
     "output_type": "display_data"
    }
   ],
   "source": [
    "from sklearn import metrics\n",
    "# for roc curve \n",
    "\n",
    "\n",
    "\n",
    "clf = MultinomialNB(alpha=1, fit_prior=False, class_prior=[0.5,0.5])\n",
    "clf.fit(X_tr,y_train)\n",
    "    \n",
    "#predicting the probability score for train and cross validate set \n",
    "y_test_proba=clf.predict_proba(X_te)\n",
    "y_train_proba=clf.predict_proba(X_tr)\n",
    "test_AUC_score_tfidf=roc_auc_score(y_test,y_test_proba[:,1])\n",
    "train_AUC_score_tfidf=roc_auc_score(y_train,y_train_proba[:,1])\n",
    "fpr, tpr, thresholds = metrics.roc_curve(y_test,y_test_proba[:,1], pos_label=1)\n",
    "fpr1, tpr1, thresholds1 = metrics.roc_curve(y_train,y_train_proba[:,1], pos_label=1)\n",
    "\n",
    "plt.plot(fpr,tpr,label='Test = '+str(test_AUC_score_tfidf))\n",
    "plt.plot(fpr1,tpr1,label='Train = '+str(train_AUC_score_tfidf))\n",
    "plt.legend()\n",
    "plt.xlabel('FPR')\n",
    "plt.ylabel('TPR')\n",
    "plt.title('ROC Curve')\n",
    "plt.grid()\n",
    "plt.show()"
   ]
  },
  {
   "cell_type": "markdown",
   "metadata": {},
   "source": [
    "# Confusion matrix"
   ]
  },
  {
   "cell_type": "code",
   "execution_count": 109,
   "metadata": {},
   "outputs": [
    {
     "data": {
      "text/plain": [
       "Text(0.5, 1.0, 'Cnfusion Matrix')"
      ]
     },
     "execution_count": 109,
     "metadata": {},
     "output_type": "execute_result"
    },
    {
     "data": {
      "image/png": "[encoded data removed]",
      "text/plain": [
       "<Figure size 432x288 with 1 Axes>"
      ]
     },
     "metadata": {},
     "output_type": "display_data"
    }
   ],
   "source": [
    "from sklearn.metrics import confusion_matrix\n",
    "clf = MultinomialNB(alpha=1, fit_prior=True, class_prior=None)\n",
    "clf.fit(X_tr,y_train)\n",
    "\n",
    "y_test_ped=clf.predict(X_te)\n",
    "conf_matrix=confusion_matrix(y_test,y_test_ped,labels=[1,0])\n",
    "con=pd.DataFrame(conf_matrix,index=['Actual: Yes',\"Actual:No\"],columns=['Predicted:Yes','Predicted:No'])\n",
    "sns.set(font_scale=1.4)\n",
    "sns.heatmap(con,annot=True,cmap=\"YlOrBr\",cbar=False,fmt='g',annot_kws={\"size\": 18})\n",
    "plt.title('Cnfusion Matrix')\n"
   ]
  },
  {
   "cell_type": "markdown",
   "metadata": {},
   "source": [
    "# Top 20 feature using tfidf"
   ]
  },
  {
   "cell_type": "code",
   "execution_count": 110,
   "metadata": {},
   "outputs": [],
   "source": [
    "clf = MultinomialNB(alpha=1, fit_prior=False, class_prior=[0.5,0.5])\n",
    "clf.fit(X_tr,y_train)\n",
    "\n",
    "feature_log_proba=clf.feature_log_prob_\n",
    "\n",
    "\n",
    "#probaility of feature (likelihood probability)\n",
    "feature_log_proba_positive=feature_log_proba[1]\n",
    "feature_log_proba_negative=feature_log_proba[0]\n",
    "\n",
    "\n",
    "# storing the indices of sorted array and reversing using slicing method\n",
    "indices_feature_log_proba_positive=feature_log_proba_positive.argsort()[::-1]\n",
    "\n",
    "indices_feature_log_proba_negative=feature_log_proba_negative.argsort()[::-1]\n",
    "\n",
    "l_positive=[]\n",
    "for i in indices_feature_log_proba_positive[:20]:\n",
    "    l_positive.append(feature_name[i])\n",
    "\n",
    "l_negative=[]\n",
    "for j in indices_feature_log_proba_negative[:20]:\n",
    "    l_negative.append(feature_name[j])"
   ]
  },
  {
   "cell_type": "markdown",
   "metadata": {},
   "source": [
    "## Top 20 feature for positive class"
   ]
  },
  {
   "cell_type": "code",
   "execution_count": 111,
   "metadata": {},
   "outputs": [
    {
     "name": "stdout",
     "output_type": "stream",
     "text": [
      "['mrs', 'grades_prek_2', 'ms', 'grades_3_5', 'other_visualarts', 'grades_6_8', 'appliedsciences_college_careerprep', 'performingarts_socialsciences', 'ca', 'parentinvolvement_specialneeds', 'students', 'grades_9_12', 'mr', 'music_specialneeds', 'gym_fitness_performingarts', 'gym_fitness_teamsports', 'ny', 'tx', 'health_lifescience_performingarts', 'fl']\n"
     ]
    }
   ],
   "source": [
    "print(l_positive)"
   ]
  },
  {
   "cell_type": "markdown",
   "metadata": {},
   "source": [
    "## Top 20 feature for negative class"
   ]
  },
  {
   "cell_type": "code",
   "execution_count": 112,
   "metadata": {},
   "outputs": [
    {
     "name": "stdout",
     "output_type": "stream",
     "text": [
      "['mrs', 'grades_prek_2', 'ms', 'grades_3_5', 'other_visualarts', 'performingarts_socialsciences', 'grades_6_8', 'ca', 'students', 'parentinvolvement_specialneeds', 'grades_9_12', 'mr', 'appliedsciences_college_careerprep', 'music_specialneeds', 'tx', 'gym_fitness_performingarts', 'gym_fitness_teamsports', 'fl', 'ny', 'health_wellness_music']\n"
     ]
    }
   ],
   "source": [
    "print(l_negative)"
   ]
  },
  {
   "cell_type": "code",
   "execution_count": 113,
   "metadata": {},
   "outputs": [
    {
     "name": "stdout",
     "output_type": "stream",
     "text": [
      "Tabel\n",
      "+------------+---------------+-----------------+--------------------+\n",
      "| Vectorizer |     Model     | Hyper parameter |        AUC         |\n",
      "+------------+---------------+-----------------+--------------------+\n",
      "|    BOW     | MultinomialNB |        1        | 0.700855216427173  |\n",
      "|   TFIDF    | MultinomialNB |        1        | 0.6831498176295174 |\n",
      "+------------+---------------+-----------------+--------------------+\n"
     ]
    }
   ],
   "source": [
    "# from prettytable import PrettyTable\n",
    "\n",
    "x = PrettyTable()\n",
    "x.field_names = [\"Vectorizer\",\"Model\", \"Hyper parameter\",\"AUC\"]\n",
    "\n",
    "x.add_row(['BOW','MultinomialNB',1,test_AUC_score_bow])\n",
    "x.add_row(['TFIDF','MultinomialNB',1,test_AUC_score_tfidf])\n",
    "print('Tabel')\n",
    "print(x)"
   ]
  },
  {
   "cell_type": "markdown",
   "metadata": {},
   "source": [
    "we are getting higher accuracy with BOW (bag of word) vectorizer"
   ]
  }
 ],
 "metadata": {
  "kernelspec": {
   "display_name": "Python 3",
   "language": "python",
   "name": "python3"
  },
  "language_info": {
   "codemirror_mode": {
    "name": "ipython",
    "version": 3
   },
   "file_extension": ".py",
   "mimetype": "text/x-python",
   "name": "python",
   "nbconvert_exporter": "python",
   "pygments_lexer": "ipython3",
   "version": "3.8.3"
  }
 },
 "nbformat": 4,
 "nbformat_minor": 4
}
