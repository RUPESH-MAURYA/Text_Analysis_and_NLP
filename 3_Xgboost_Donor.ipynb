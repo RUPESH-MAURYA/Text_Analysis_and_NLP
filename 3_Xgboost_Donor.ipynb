{
 "cells": [
  {
   "cell_type": "code",
   "execution_count": 1,
   "metadata": {},
   "outputs": [],
   "source": [
    "# for performing GBDT\n",
    "import xgboost as xgb"
   ]
  },
  {
   "cell_type": "code",
   "execution_count": 2,
   "metadata": {},
   "outputs": [],
   "source": [
    "import pandas as pd\n",
    "import numpy as np\n",
    "import matplotlib.pyplot as plt \n",
    "import seaborn as sns\n",
    "from prettytable import PrettyTable\n",
    "import re\n",
    "from sklearn import tree\n",
    "from tqdm import tqdm\n",
    "import pickle\n",
    "from scipy import sparse"
   ]
  },
  {
   "cell_type": "code",
   "execution_count": 3,
   "metadata": {},
   "outputs": [],
   "source": [
    "# loading df_train (cleaned data)\n",
    "df_train = pd.read_csv('df_train.csv')\n"
   ]
  },
  {
   "cell_type": "code",
   "execution_count": 4,
   "metadata": {},
   "outputs": [
    {
     "data": {
      "text/html": [
       "<div>\n",
       "<style scoped>\n",
       "    .dataframe tbody tr th:only-of-type {\n",
       "        vertical-align: middle;\n",
       "    }\n",
       "\n",
       "    .dataframe tbody tr th {\n",
       "        vertical-align: top;\n",
       "    }\n",
       "\n",
       "    .dataframe thead th {\n",
       "        text-align: right;\n",
       "    }\n",
       "</style>\n",
       "<table border=\"1\" class=\"dataframe\">\n",
       "  <thead>\n",
       "    <tr style=\"text-align: right;\">\n",
       "      <th></th>\n",
       "      <th>teacher_prefix</th>\n",
       "      <th>school_state</th>\n",
       "      <th>project_grade_category</th>\n",
       "      <th>project_subject_categories</th>\n",
       "      <th>project_subject_subcategories</th>\n",
       "      <th>teacher_number_of_previously_posted_projects</th>\n",
       "      <th>project_is_approved</th>\n",
       "      <th>quantity</th>\n",
       "      <th>price</th>\n",
       "      <th>preprocessed_titles</th>\n",
       "      <th>preprocessed_essays</th>\n",
       "      <th>preprocessed_resource_summary</th>\n",
       "      <th>number_present</th>\n",
       "    </tr>\n",
       "  </thead>\n",
       "  <tbody>\n",
       "    <tr>\n",
       "      <th>0</th>\n",
       "      <td>mrs</td>\n",
       "      <td>in</td>\n",
       "      <td>grades_prek_2</td>\n",
       "      <td>literacy_language</td>\n",
       "      <td>esl_literacy</td>\n",
       "      <td>0</td>\n",
       "      <td>0</td>\n",
       "      <td>23</td>\n",
       "      <td>154.60</td>\n",
       "      <td>educational support english learners home</td>\n",
       "      <td>students english learners working english seco...</td>\n",
       "      <td>students need opportunities practice beginning...</td>\n",
       "      <td>0</td>\n",
       "    </tr>\n",
       "    <tr>\n",
       "      <th>1</th>\n",
       "      <td>mr</td>\n",
       "      <td>fl</td>\n",
       "      <td>grades_6_8</td>\n",
       "      <td>history_civics_health_sports</td>\n",
       "      <td>civics_government_teamsports</td>\n",
       "      <td>7</td>\n",
       "      <td>1</td>\n",
       "      <td>1</td>\n",
       "      <td>299.00</td>\n",
       "      <td>wanted projector hungry learners</td>\n",
       "      <td>students arrive school eager learn polite gene...</td>\n",
       "      <td>students need projector help viewing education...</td>\n",
       "      <td>0</td>\n",
       "    </tr>\n",
       "    <tr>\n",
       "      <th>2</th>\n",
       "      <td>ms</td>\n",
       "      <td>az</td>\n",
       "      <td>grades_6_8</td>\n",
       "      <td>health_sports</td>\n",
       "      <td>health_wellness_teamsports</td>\n",
       "      <td>1</td>\n",
       "      <td>0</td>\n",
       "      <td>22</td>\n",
       "      <td>516.85</td>\n",
       "      <td>soccer equipment awesome middle school students</td>\n",
       "      <td>true champions not always ones win guts mia ha...</td>\n",
       "      <td>students need shine guards athletic socks socc...</td>\n",
       "      <td>0</td>\n",
       "    </tr>\n",
       "    <tr>\n",
       "      <th>3</th>\n",
       "      <td>mrs</td>\n",
       "      <td>ky</td>\n",
       "      <td>grades_prek_2</td>\n",
       "      <td>literacy_language_math_science</td>\n",
       "      <td>literacy_mathematics</td>\n",
       "      <td>4</td>\n",
       "      <td>1</td>\n",
       "      <td>4</td>\n",
       "      <td>232.90</td>\n",
       "      <td>techie kindergarteners</td>\n",
       "      <td>work unique school filled esl english second l...</td>\n",
       "      <td>students need engage reading math way inspire ...</td>\n",
       "      <td>0</td>\n",
       "    </tr>\n",
       "    <tr>\n",
       "      <th>4</th>\n",
       "      <td>mrs</td>\n",
       "      <td>tx</td>\n",
       "      <td>grades_prek_2</td>\n",
       "      <td>math_science</td>\n",
       "      <td>mathematics</td>\n",
       "      <td>1</td>\n",
       "      <td>1</td>\n",
       "      <td>4</td>\n",
       "      <td>67.98</td>\n",
       "      <td>interactive math tools</td>\n",
       "      <td>second grade classroom next year made around 2...</td>\n",
       "      <td>students need hands practice mathematics fun p...</td>\n",
       "      <td>0</td>\n",
       "    </tr>\n",
       "  </tbody>\n",
       "</table>\n",
       "</div>"
      ],
      "text/plain": [
       "  teacher_prefix school_state project_grade_category  \\\n",
       "0            mrs           in          grades_prek_2   \n",
       "1             mr           fl             grades_6_8   \n",
       "2             ms           az             grades_6_8   \n",
       "3            mrs           ky          grades_prek_2   \n",
       "4            mrs           tx          grades_prek_2   \n",
       "\n",
       "       project_subject_categories project_subject_subcategories  \\\n",
       "0               literacy_language                  esl_literacy   \n",
       "1    history_civics_health_sports  civics_government_teamsports   \n",
       "2                   health_sports    health_wellness_teamsports   \n",
       "3  literacy_language_math_science          literacy_mathematics   \n",
       "4                    math_science                   mathematics   \n",
       "\n",
       "   teacher_number_of_previously_posted_projects  project_is_approved  \\\n",
       "0                                             0                    0   \n",
       "1                                             7                    1   \n",
       "2                                             1                    0   \n",
       "3                                             4                    1   \n",
       "4                                             1                    1   \n",
       "\n",
       "   quantity   price                              preprocessed_titles  \\\n",
       "0        23  154.60        educational support english learners home   \n",
       "1         1  299.00                 wanted projector hungry learners   \n",
       "2        22  516.85  soccer equipment awesome middle school students   \n",
       "3         4  232.90                           techie kindergarteners   \n",
       "4         4   67.98                           interactive math tools   \n",
       "\n",
       "                                 preprocessed_essays  \\\n",
       "0  students english learners working english seco...   \n",
       "1  students arrive school eager learn polite gene...   \n",
       "2  true champions not always ones win guts mia ha...   \n",
       "3  work unique school filled esl english second l...   \n",
       "4  second grade classroom next year made around 2...   \n",
       "\n",
       "                       preprocessed_resource_summary  number_present  \n",
       "0  students need opportunities practice beginning...               0  \n",
       "1  students need projector help viewing education...               0  \n",
       "2  students need shine guards athletic socks socc...               0  \n",
       "3  students need engage reading math way inspire ...               0  \n",
       "4  students need hands practice mathematics fun p...               0  "
      ]
     },
     "execution_count": 4,
     "metadata": {},
     "output_type": "execute_result"
    }
   ],
   "source": [
    "#droping Unnamed column\n",
    "df_train.drop('Unnamed: 0',axis=1,inplace=True)\n",
    "df_train.head(5)"
   ]
  },
  {
   "cell_type": "code",
   "execution_count": 5,
   "metadata": {},
   "outputs": [
    {
     "data": {
      "text/plain": [
       "teacher_prefix                                   0\n",
       "school_state                                     0\n",
       "project_grade_category                           0\n",
       "project_subject_categories                       0\n",
       "project_subject_subcategories                    0\n",
       "teacher_number_of_previously_posted_projects     0\n",
       "project_is_approved                              0\n",
       "quantity                                         0\n",
       "price                                            0\n",
       "preprocessed_titles                             43\n",
       "preprocessed_essays                              0\n",
       "preprocessed_resource_summary                    0\n",
       "number_present                                   0\n",
       "dtype: int64"
      ]
     },
     "execution_count": 5,
     "metadata": {},
     "output_type": "execute_result"
    }
   ],
   "source": [
    "#checking for null value\n",
    "df_train.isnull().sum()"
   ]
  },
  {
   "cell_type": "markdown",
   "metadata": {},
   "source": [
    "preprocessed_title have 43 NULL values, we will drop the null row "
   ]
  },
  {
   "cell_type": "code",
   "execution_count": 6,
   "metadata": {},
   "outputs": [
    {
     "data": {
      "text/plain": [
       "Int64Index([   880,   3517,   7503,   9019,   9518,  12390,  15617,  17652,\n",
       "             17798,  18915,  19122,  19731,  19772,  21484,  24024,  25089,\n",
       "             29208,  32089,  32608,  34091,  41656,  41797,  45844,  50004,\n",
       "             50526,  54464,  54781,  56857,  57432,  59766,  63032,  68453,\n",
       "             68821,  73774,  74264,  77851,  80909,  81581,  93213,  94369,\n",
       "            101144, 102430, 106760],\n",
       "           dtype='int64')"
      ]
     },
     "execution_count": 6,
     "metadata": {},
     "output_type": "execute_result"
    }
   ],
   "source": [
    "#index of rows having null values in preprocessed_title column \n",
    "row_drop=df_train[df_train['preprocessed_titles'].isnull()==True].index\n",
    "row_drop"
   ]
  },
  {
   "cell_type": "code",
   "execution_count": 7,
   "metadata": {},
   "outputs": [
    {
     "name": "stdout",
     "output_type": "stream",
     "text": [
      "Shape of df_train before drop  (109248, 13)\n",
      "Shape of df_train after drop  (109205, 13)\n"
     ]
    }
   ],
   "source": [
    "print('Shape of df_train before drop ',df_train.shape)\n",
    "\n",
    "# droping the row \n",
    "df_train.drop(row_drop,axis=0,inplace=True)\n",
    "\n",
    "print('Shape of df_train after drop ',df_train.shape)"
   ]
  },
  {
   "cell_type": "code",
   "execution_count": 8,
   "metadata": {},
   "outputs": [
    {
     "data": {
      "text/plain": [
       "1    92680\n",
       "0    16525\n",
       "Name: project_is_approved, dtype: int64"
      ]
     },
     "execution_count": 8,
     "metadata": {},
     "output_type": "execute_result"
    }
   ],
   "source": [
    "#checking of data is balanced or not\n",
    "df_train['project_is_approved'].value_counts()"
   ]
  },
  {
   "cell_type": "markdown",
   "metadata": {},
   "source": [
    "- data is imbalanced"
   ]
  },
  {
   "cell_type": "markdown",
   "metadata": {},
   "source": [
    "# Sentiment scores"
   ]
  },
  {
   "cell_type": "code",
   "execution_count": 9,
   "metadata": {},
   "outputs": [
    {
     "name": "stderr",
     "output_type": "stream",
     "text": [
      "[nltk_data] Downloading package vader_lexicon to\n",
      "[nltk_data]     C:\\Users\\rupes\\AppData\\Roaming\\nltk_data...\n",
      "[nltk_data]   Package vader_lexicon is already up-to-date!\n"
     ]
    }
   ],
   "source": [
    "import nltk\n",
    "nltk.download('vader_lexicon')\n",
    "from nltk.sentiment.vader import SentimentIntensityAnalyzer\n",
    "sid = SentimentIntensityAnalyzer()"
   ]
  },
  {
   "cell_type": "code",
   "execution_count": 10,
   "metadata": {},
   "outputs": [
    {
     "name": "stderr",
     "output_type": "stream",
     "text": [
      "100%|█████████████████████████████████████████████████████████████████████████| 109205/109205 [03:16<00:00, 555.32it/s]\n"
     ]
    }
   ],
   "source": [
    "Sentiment_neg=[]\n",
    "Sentiment_pos=[]\n",
    "Sentiment_neu=[]\n",
    "Sentiment_comp=[]\n",
    "\n",
    "\n",
    "for k in tqdm(df_train['preprocessed_essays']):\n",
    "    ss=sid.polarity_scores(k)\n",
    "    for i,j in [(Sentiment_neg,'neg'),(Sentiment_pos,'pos'),(Sentiment_neu,'neu'),(Sentiment_comp,'compound')]:\n",
    "        i.append(ss[j])"
   ]
  },
  {
   "cell_type": "code",
   "execution_count": 11,
   "metadata": {},
   "outputs": [],
   "source": [
    "df_train['Sentiment_neg']=Sentiment_neg\n",
    "df_train['Sentiment_pos']=Sentiment_pos\n",
    "df_train['Sentiment_neu']=Sentiment_neu\n",
    "df_train['Sentiment_comp']=Sentiment_comp"
   ]
  },
  {
   "cell_type": "code",
   "execution_count": 12,
   "metadata": {},
   "outputs": [
    {
     "data": {
      "text/html": [
       "<div>\n",
       "<style scoped>\n",
       "    .dataframe tbody tr th:only-of-type {\n",
       "        vertical-align: middle;\n",
       "    }\n",
       "\n",
       "    .dataframe tbody tr th {\n",
       "        vertical-align: top;\n",
       "    }\n",
       "\n",
       "    .dataframe thead th {\n",
       "        text-align: right;\n",
       "    }\n",
       "</style>\n",
       "<table border=\"1\" class=\"dataframe\">\n",
       "  <thead>\n",
       "    <tr style=\"text-align: right;\">\n",
       "      <th></th>\n",
       "      <th>teacher_prefix</th>\n",
       "      <th>school_state</th>\n",
       "      <th>project_grade_category</th>\n",
       "      <th>project_subject_categories</th>\n",
       "      <th>project_subject_subcategories</th>\n",
       "      <th>teacher_number_of_previously_posted_projects</th>\n",
       "      <th>project_is_approved</th>\n",
       "      <th>quantity</th>\n",
       "      <th>price</th>\n",
       "      <th>preprocessed_titles</th>\n",
       "      <th>preprocessed_essays</th>\n",
       "      <th>preprocessed_resource_summary</th>\n",
       "      <th>number_present</th>\n",
       "      <th>Sentiment_neg</th>\n",
       "      <th>Sentiment_pos</th>\n",
       "      <th>Sentiment_neu</th>\n",
       "      <th>Sentiment_comp</th>\n",
       "    </tr>\n",
       "  </thead>\n",
       "  <tbody>\n",
       "    <tr>\n",
       "      <th>0</th>\n",
       "      <td>mrs</td>\n",
       "      <td>in</td>\n",
       "      <td>grades_prek_2</td>\n",
       "      <td>literacy_language</td>\n",
       "      <td>esl_literacy</td>\n",
       "      <td>0</td>\n",
       "      <td>0</td>\n",
       "      <td>23</td>\n",
       "      <td>154.6</td>\n",
       "      <td>educational support english learners home</td>\n",
       "      <td>students english learners working english seco...</td>\n",
       "      <td>students need opportunities practice beginning...</td>\n",
       "      <td>0</td>\n",
       "      <td>0.013</td>\n",
       "      <td>0.154</td>\n",
       "      <td>0.833</td>\n",
       "      <td>0.9694</td>\n",
       "    </tr>\n",
       "    <tr>\n",
       "      <th>1</th>\n",
       "      <td>mr</td>\n",
       "      <td>fl</td>\n",
       "      <td>grades_6_8</td>\n",
       "      <td>history_civics_health_sports</td>\n",
       "      <td>civics_government_teamsports</td>\n",
       "      <td>7</td>\n",
       "      <td>1</td>\n",
       "      <td>1</td>\n",
       "      <td>299.0</td>\n",
       "      <td>wanted projector hungry learners</td>\n",
       "      <td>students arrive school eager learn polite gene...</td>\n",
       "      <td>students need projector help viewing education...</td>\n",
       "      <td>0</td>\n",
       "      <td>0.052</td>\n",
       "      <td>0.305</td>\n",
       "      <td>0.643</td>\n",
       "      <td>0.9856</td>\n",
       "    </tr>\n",
       "  </tbody>\n",
       "</table>\n",
       "</div>"
      ],
      "text/plain": [
       "  teacher_prefix school_state project_grade_category  \\\n",
       "0            mrs           in          grades_prek_2   \n",
       "1             mr           fl             grades_6_8   \n",
       "\n",
       "     project_subject_categories project_subject_subcategories  \\\n",
       "0             literacy_language                  esl_literacy   \n",
       "1  history_civics_health_sports  civics_government_teamsports   \n",
       "\n",
       "   teacher_number_of_previously_posted_projects  project_is_approved  \\\n",
       "0                                             0                    0   \n",
       "1                                             7                    1   \n",
       "\n",
       "   quantity  price                        preprocessed_titles  \\\n",
       "0        23  154.6  educational support english learners home   \n",
       "1         1  299.0           wanted projector hungry learners   \n",
       "\n",
       "                                 preprocessed_essays  \\\n",
       "0  students english learners working english seco...   \n",
       "1  students arrive school eager learn polite gene...   \n",
       "\n",
       "                       preprocessed_resource_summary  number_present  \\\n",
       "0  students need opportunities practice beginning...               0   \n",
       "1  students need projector help viewing education...               0   \n",
       "\n",
       "   Sentiment_neg  Sentiment_pos  Sentiment_neu  Sentiment_comp  \n",
       "0          0.013          0.154          0.833          0.9694  \n",
       "1          0.052          0.305          0.643          0.9856  "
      ]
     },
     "execution_count": 12,
     "metadata": {},
     "output_type": "execute_result"
    }
   ],
   "source": [
    "df_train.head(2)"
   ]
  },
  {
   "cell_type": "code",
   "execution_count": 13,
   "metadata": {},
   "outputs": [],
   "source": [
    "# creating dependent variable and independent varibale\n",
    "X= df_train.drop('project_is_approved',axis=1)\n",
    "Y=df_train['project_is_approved']"
   ]
  },
  {
   "cell_type": "markdown",
   "metadata": {},
   "source": [
    "# splitting the data train , cross validation and test set "
   ]
  },
  {
   "cell_type": "code",
   "execution_count": 14,
   "metadata": {},
   "outputs": [],
   "source": [
    "from sklearn.model_selection import train_test_split\n",
    "X_train, X_test, y_train, y_test =train_test_split(X, Y, test_size=0.33,stratify=Y)\n",
    "X_train, X_cv, y_train, y_cv =train_test_split(X_train, y_train, test_size=0.33,stratify=y_train)\n"
   ]
  },
  {
   "cell_type": "markdown",
   "metadata": {},
   "source": [
    "## 4. Response Coding"
   ]
  },
  {
   "cell_type": "code",
   "execution_count": 15,
   "metadata": {},
   "outputs": [
    {
     "name": "stderr",
     "output_type": "stream",
     "text": [
      "<ipython-input-15-e2e748461342>:4: SettingWithCopyWarning: \n",
      "A value is trying to be set on a copy of a slice from a DataFrame.\n",
      "Try using .loc[row_indexer,col_indexer] = value instead\n",
      "\n",
      "See the caveats in the documentation: https://pandas.pydata.org/pandas-docs/stable/user_guide/indexing.html#returning-a-view-versus-a-copy\n",
      "  X_test['project_is_approved']=y_test\n"
     ]
    }
   ],
   "source": [
    "# combing y column for making row selection for response coding \n",
    "X_train['project_is_approved']=y_train\n",
    "X_cv['project_is_approved']=y_cv\n",
    "X_test['project_is_approved']=y_test"
   ]
  },
  {
   "cell_type": "code",
   "execution_count": 16,
   "metadata": {},
   "outputs": [],
   "source": [
    "# list of cloumns on which we have to do Response Coding\n",
    "# with new cloumns name of respective columns with each calss\n",
    "list_of_categorical=[('teacher_prefix','teacher_prefix_class0','teacher_prefix_class1'),\\\n",
    "                     ('school_state','school_state_class0','school_state_class1'),\\\n",
    "                     ('project_grade_category','project_grade_category_class0','project_grade_category_class1'),\\\n",
    "                     ('project_subject_categories','project_subject_categories_class0','project_subject_categories_class1'),\\\n",
    "                     ('project_subject_subcategories','project_subject_subcategories_class0','project_subject_subcategories_class1')]"
   ]
  },
  {
   "cell_type": "code",
   "execution_count": 17,
   "metadata": {},
   "outputs": [
    {
     "name": "stderr",
     "output_type": "stream",
     "text": [
      "\r",
      "  0%|                                                                                            | 0/5 [00:00<?, ?it/s]"
     ]
    },
    {
     "name": "stdout",
     "output_type": "stream",
     "text": [
      "teacher_prefix\n"
     ]
    },
    {
     "name": "stderr",
     "output_type": "stream",
     "text": [
      "<ipython-input-17-5372d3259648>:49: SettingWithCopyWarning: \n",
      "A value is trying to be set on a copy of a slice from a DataFrame.\n",
      "Try using .loc[row_indexer,col_indexer] = value instead\n",
      "\n",
      "See the caveats in the documentation: https://pandas.pydata.org/pandas-docs/stable/user_guide/indexing.html#returning-a-view-versus-a-copy\n",
      "  X_test[i[1]]=[round(dict0.setdefault(val,0.5),4) for val in X_test[i[0]]]\n",
      "<ipython-input-17-5372d3259648>:51: SettingWithCopyWarning: \n",
      "A value is trying to be set on a copy of a slice from a DataFrame.\n",
      "Try using .loc[row_indexer,col_indexer] = value instead\n",
      "\n",
      "See the caveats in the documentation: https://pandas.pydata.org/pandas-docs/stable/user_guide/indexing.html#returning-a-view-versus-a-copy\n",
      "  X_test[i[2]]=[round(dict1.setdefault(val,0.5),4) for val in X_test[i[0]]]\n",
      " 20%|████████████████▊                                                                   | 1/5 [00:01<00:05,  1.28s/it]"
     ]
    },
    {
     "name": "stdout",
     "output_type": "stream",
     "text": [
      "school_state\n"
     ]
    },
    {
     "name": "stderr",
     "output_type": "stream",
     "text": [
      "\r",
      " 40%|█████████████████████████████████▌                                                  | 2/5 [00:02<00:03,  1.22s/it]"
     ]
    },
    {
     "name": "stdout",
     "output_type": "stream",
     "text": [
      "project_grade_category\n"
     ]
    },
    {
     "name": "stderr",
     "output_type": "stream",
     "text": [
      "\r",
      " 60%|██████████████████████████████████████████████████▍                                 | 3/5 [00:03<00:02,  1.17s/it]"
     ]
    },
    {
     "name": "stdout",
     "output_type": "stream",
     "text": [
      "project_subject_categories\n"
     ]
    },
    {
     "name": "stderr",
     "output_type": "stream",
     "text": [
      "\r",
      " 80%|███████████████████████████████████████████████████████████████████▏                | 4/5 [00:04<00:01,  1.15s/it]"
     ]
    },
    {
     "name": "stdout",
     "output_type": "stream",
     "text": [
      "project_subject_subcategories\n"
     ]
    },
    {
     "name": "stderr",
     "output_type": "stream",
     "text": [
      "100%|████████████████████████████████████████████████████████████████████████████████████| 5/5 [00:05<00:00,  1.13s/it]\n"
     ]
    }
   ],
   "source": [
    "# iteration over the list \n",
    "for i in tqdm(list_of_categorical):\n",
    "    \n",
    "    \n",
    "    print(i[0])\n",
    "    \n",
    "    # value counts for class 0 gives us number of time each category occur for class 0 \n",
    "    ser0=X_train[X_train['project_is_approved']==0][i[0]].value_counts()\n",
    "    \n",
    "    \n",
    "    #value counts for class 0 gives us number of time each category occur for class 0 \n",
    "    ser1=X_train[X_train['project_is_approved']==1][i[0]].value_counts()\n",
    "    \n",
    "    # joining both pandas series with full outer join \n",
    "    # the category missing in any one class will be given NULL value\n",
    "    ser=pd.concat([ser0,ser1],join='outer',axis=1,names=[0,1])\n",
    "    \n",
    "    # replacing NULL value with zero \n",
    "    ser=pd.DataFrame(ser.fillna(0))\n",
    "    \n",
    "    # list of all categories for the given feature\n",
    "    category=np.array(ser.index)\n",
    "    \n",
    "    \n",
    "    #storing the total number of time given category occur for given class\n",
    "    sum_0=ser.iloc[:, 0].values\n",
    "    sum_1=ser.iloc[:, 1].values\n",
    "    \n",
    "    #calculating probability for calss 0 \n",
    "    prob0=sum_0/(sum_0+sum_1)\n",
    "    \n",
    "    #calculating probability for calss 1\n",
    "    prob1=sum_1/(sum_0+sum_1)\n",
    "    \n",
    "    # creating dictionary with key as category and its probability as value for both class 0 and 1 \n",
    "    dict0=dict(zip(category,prob0))\n",
    "    dict1=dict(zip(category,prob1))\n",
    "    \n",
    "    # creating new column with suffix class0 and class1 for train set  \n",
    "    X_train[i[1]]=[round(dict0.setdefault(val,0.5),4) for val in X_train[i[0]]] \n",
    "\n",
    "    X_train[i[2]]=[round(dict1.setdefault(val,0.5),4) for val in X_train[i[0]]] \n",
    "    \n",
    "    # using the probability score for CV and test set\n",
    "    X_cv[i[1]]=[round(dict0.setdefault(val,0.5),4) for val in X_cv[i[0]]] \n",
    "\n",
    "    X_cv[i[2]]=[round(dict1.setdefault(val,0.5),4) for val in X_cv[i[0]]] \n",
    "    \n",
    "    X_test[i[1]]=[round(dict0.setdefault(val,0.5),4) for val in X_test[i[0]]] \n",
    "\n",
    "    X_test[i[2]]=[round(dict1.setdefault(val,0.5),4) for val in X_test[i[0]]]\n"
   ]
  },
  {
   "cell_type": "code",
   "execution_count": 18,
   "metadata": {},
   "outputs": [],
   "source": [
    "X_train=X_train.drop('project_is_approved',axis=1)\n",
    "X_cv=X_cv.drop('project_is_approved',axis=1)\n",
    "X_test=X_test.drop('project_is_approved',axis=1)"
   ]
  },
  {
   "cell_type": "markdown",
   "metadata": {},
   "source": [
    "# SET 1 :TFIDF"
   ]
  },
  {
   "cell_type": "code",
   "execution_count": 19,
   "metadata": {},
   "outputs": [
    {
     "data": {
      "text/html": [
       "<div>\n",
       "<style scoped>\n",
       "    .dataframe tbody tr th:only-of-type {\n",
       "        vertical-align: middle;\n",
       "    }\n",
       "\n",
       "    .dataframe tbody tr th {\n",
       "        vertical-align: top;\n",
       "    }\n",
       "\n",
       "    .dataframe thead th {\n",
       "        text-align: right;\n",
       "    }\n",
       "</style>\n",
       "<table border=\"1\" class=\"dataframe\">\n",
       "  <thead>\n",
       "    <tr style=\"text-align: right;\">\n",
       "      <th></th>\n",
       "      <th>teacher_prefix</th>\n",
       "      <th>school_state</th>\n",
       "      <th>project_grade_category</th>\n",
       "      <th>project_subject_categories</th>\n",
       "      <th>project_subject_subcategories</th>\n",
       "      <th>teacher_number_of_previously_posted_projects</th>\n",
       "      <th>quantity</th>\n",
       "      <th>price</th>\n",
       "      <th>preprocessed_titles</th>\n",
       "      <th>preprocessed_essays</th>\n",
       "      <th>...</th>\n",
       "      <th>teacher_prefix_class0</th>\n",
       "      <th>teacher_prefix_class1</th>\n",
       "      <th>school_state_class0</th>\n",
       "      <th>school_state_class1</th>\n",
       "      <th>project_grade_category_class0</th>\n",
       "      <th>project_grade_category_class1</th>\n",
       "      <th>project_subject_categories_class0</th>\n",
       "      <th>project_subject_categories_class1</th>\n",
       "      <th>project_subject_subcategories_class0</th>\n",
       "      <th>project_subject_subcategories_class1</th>\n",
       "    </tr>\n",
       "  </thead>\n",
       "  <tbody>\n",
       "    <tr>\n",
       "      <th>22613</th>\n",
       "      <td>mrs</td>\n",
       "      <td>mi</td>\n",
       "      <td>grades_prek_2</td>\n",
       "      <td>health_sports</td>\n",
       "      <td>health_wellness</td>\n",
       "      <td>16</td>\n",
       "      <td>6</td>\n",
       "      <td>353.94</td>\n",
       "      <td>target fit</td>\n",
       "      <td>students young energetic five six year olds lo...</td>\n",
       "      <td>...</td>\n",
       "      <td>0.1471</td>\n",
       "      <td>0.8529</td>\n",
       "      <td>0.1464</td>\n",
       "      <td>0.8536</td>\n",
       "      <td>0.1532</td>\n",
       "      <td>0.8468</td>\n",
       "      <td>0.1495</td>\n",
       "      <td>0.8505</td>\n",
       "      <td>0.1245</td>\n",
       "      <td>0.8755</td>\n",
       "    </tr>\n",
       "    <tr>\n",
       "      <th>99979</th>\n",
       "      <td>mrs</td>\n",
       "      <td>wa</td>\n",
       "      <td>grades_6_8</td>\n",
       "      <td>health_sports</td>\n",
       "      <td>health_wellness</td>\n",
       "      <td>31</td>\n",
       "      <td>9</td>\n",
       "      <td>79.94</td>\n",
       "      <td>help us balance work movement take 2</td>\n",
       "      <td>teach amazing eighth graders fun hardworking s...</td>\n",
       "      <td>...</td>\n",
       "      <td>0.1471</td>\n",
       "      <td>0.8529</td>\n",
       "      <td>0.1260</td>\n",
       "      <td>0.8740</td>\n",
       "      <td>0.1587</td>\n",
       "      <td>0.8413</td>\n",
       "      <td>0.1495</td>\n",
       "      <td>0.8505</td>\n",
       "      <td>0.1245</td>\n",
       "      <td>0.8755</td>\n",
       "    </tr>\n",
       "    <tr>\n",
       "      <th>66139</th>\n",
       "      <td>mrs</td>\n",
       "      <td>tx</td>\n",
       "      <td>grades_prek_2</td>\n",
       "      <td>literacy_language_math_science</td>\n",
       "      <td>literature_writing_mathematics</td>\n",
       "      <td>8</td>\n",
       "      <td>5</td>\n",
       "      <td>159.57</td>\n",
       "      <td>guided learning space</td>\n",
       "      <td>class 18 fun loving curious engaging kindergar...</td>\n",
       "      <td>...</td>\n",
       "      <td>0.1471</td>\n",
       "      <td>0.8529</td>\n",
       "      <td>0.1815</td>\n",
       "      <td>0.8185</td>\n",
       "      <td>0.1532</td>\n",
       "      <td>0.8468</td>\n",
       "      <td>0.1318</td>\n",
       "      <td>0.8682</td>\n",
       "      <td>0.1313</td>\n",
       "      <td>0.8687</td>\n",
       "    </tr>\n",
       "    <tr>\n",
       "      <th>22738</th>\n",
       "      <td>ms</td>\n",
       "      <td>ok</td>\n",
       "      <td>grades_prek_2</td>\n",
       "      <td>appliedlearning_literacy_language</td>\n",
       "      <td>earlydevelopment_literacy</td>\n",
       "      <td>0</td>\n",
       "      <td>2</td>\n",
       "      <td>399.99</td>\n",
       "      <td>teaching technology tiny thinkers</td>\n",
       "      <td>let see things hear students everyday teach 25...</td>\n",
       "      <td>...</td>\n",
       "      <td>0.1537</td>\n",
       "      <td>0.8463</td>\n",
       "      <td>0.1680</td>\n",
       "      <td>0.8320</td>\n",
       "      <td>0.1532</td>\n",
       "      <td>0.8468</td>\n",
       "      <td>0.1348</td>\n",
       "      <td>0.8652</td>\n",
       "      <td>0.1429</td>\n",
       "      <td>0.8571</td>\n",
       "    </tr>\n",
       "  </tbody>\n",
       "</table>\n",
       "<p>4 rows × 26 columns</p>\n",
       "</div>"
      ],
      "text/plain": [
       "      teacher_prefix school_state project_grade_category  \\\n",
       "22613            mrs           mi          grades_prek_2   \n",
       "99979            mrs           wa             grades_6_8   \n",
       "66139            mrs           tx          grades_prek_2   \n",
       "22738             ms           ok          grades_prek_2   \n",
       "\n",
       "              project_subject_categories   project_subject_subcategories  \\\n",
       "22613                      health_sports                 health_wellness   \n",
       "99979                      health_sports                 health_wellness   \n",
       "66139     literacy_language_math_science  literature_writing_mathematics   \n",
       "22738  appliedlearning_literacy_language       earlydevelopment_literacy   \n",
       "\n",
       "       teacher_number_of_previously_posted_projects  quantity   price  \\\n",
       "22613                                            16         6  353.94   \n",
       "99979                                            31         9   79.94   \n",
       "66139                                             8         5  159.57   \n",
       "22738                                             0         2  399.99   \n",
       "\n",
       "                        preprocessed_titles  \\\n",
       "22613                            target fit   \n",
       "99979  help us balance work movement take 2   \n",
       "66139                 guided learning space   \n",
       "22738     teaching technology tiny thinkers   \n",
       "\n",
       "                                     preprocessed_essays  ...  \\\n",
       "22613  students young energetic five six year olds lo...  ...   \n",
       "99979  teach amazing eighth graders fun hardworking s...  ...   \n",
       "66139  class 18 fun loving curious engaging kindergar...  ...   \n",
       "22738  let see things hear students everyday teach 25...  ...   \n",
       "\n",
       "      teacher_prefix_class0  teacher_prefix_class1  school_state_class0  \\\n",
       "22613                0.1471                 0.8529               0.1464   \n",
       "99979                0.1471                 0.8529               0.1260   \n",
       "66139                0.1471                 0.8529               0.1815   \n",
       "22738                0.1537                 0.8463               0.1680   \n",
       "\n",
       "       school_state_class1  project_grade_category_class0  \\\n",
       "22613               0.8536                         0.1532   \n",
       "99979               0.8740                         0.1587   \n",
       "66139               0.8185                         0.1532   \n",
       "22738               0.8320                         0.1532   \n",
       "\n",
       "       project_grade_category_class1  project_subject_categories_class0  \\\n",
       "22613                         0.8468                             0.1495   \n",
       "99979                         0.8413                             0.1495   \n",
       "66139                         0.8468                             0.1318   \n",
       "22738                         0.8468                             0.1348   \n",
       "\n",
       "       project_subject_categories_class1  \\\n",
       "22613                             0.8505   \n",
       "99979                             0.8505   \n",
       "66139                             0.8682   \n",
       "22738                             0.8652   \n",
       "\n",
       "       project_subject_subcategories_class0  \\\n",
       "22613                                0.1245   \n",
       "99979                                0.1245   \n",
       "66139                                0.1313   \n",
       "22738                                0.1429   \n",
       "\n",
       "       project_subject_subcategories_class1  \n",
       "22613                                0.8755  \n",
       "99979                                0.8755  \n",
       "66139                                0.8687  \n",
       "22738                                0.8571  \n",
       "\n",
       "[4 rows x 26 columns]"
      ]
     },
     "execution_count": 19,
     "metadata": {},
     "output_type": "execute_result"
    }
   ],
   "source": [
    "X_train.head(4)"
   ]
  },
  {
   "cell_type": "markdown",
   "metadata": {},
   "source": [
    "# TFIDF of  preprocessed_essays"
   ]
  },
  {
   "cell_type": "code",
   "execution_count": 21,
   "metadata": {},
   "outputs": [
    {
     "name": "stdout",
     "output_type": "stream",
     "text": [
      "After vectorizations\n",
      "(49021, 5000) (49021,)\n",
      "(24146, 5000) (24146,)\n",
      "(36038, 5000) (36038,)\n",
      "====================================================================================================\n"
     ]
    }
   ],
   "source": [
    "from sklearn.feature_extraction.text import TfidfVectorizer\n",
    "vectorizer = TfidfVectorizer(min_df=10,ngram_range=(1,4), max_features=5000)\n",
    "\n",
    "\n",
    "#bag of word \n",
    "vectorizer.fit(X_train['preprocessed_essays'].values) # fit has to happen only on train data\n",
    "\n",
    "# we use the fitted CountVectorizer to convert the text to vector\n",
    "X_train_essay_tfidf = vectorizer.transform(X_train['preprocessed_essays'].values)\n",
    "X_cv_essay_tfidf = vectorizer.transform(X_cv['preprocessed_essays'].values)\n",
    "X_test_essay_tfidf = vectorizer.transform(X_test['preprocessed_essays'].values)\n",
    "\n",
    "print(\"After vectorizations\")\n",
    "print(X_train_essay_tfidf.shape, y_train.shape)\n",
    "print(X_cv_essay_tfidf.shape,y_cv.shape)\n",
    "print(X_test_essay_tfidf.shape, y_test.shape)\n",
    "print(\"=\"*100)\n",
    "\n"
   ]
  },
  {
   "cell_type": "markdown",
   "metadata": {},
   "source": [
    "# TFIDF of preprocessed_titles"
   ]
  },
  {
   "cell_type": "code",
   "execution_count": 22,
   "metadata": {},
   "outputs": [
    {
     "name": "stdout",
     "output_type": "stream",
     "text": [
      "(24146, 3396)\n",
      "(24146, 3396)\n",
      "(36038, 3396)\n"
     ]
    }
   ],
   "source": [
    "vectorizer = TfidfVectorizer(min_df=10,ngram_range=(1,4), max_features=5000)\n",
    "vectorizer.fit(X_train['preprocessed_titles'].values) #fitting on train set \n",
    "\n",
    "x_train_title_tfidf=vectorizer.transform(X_train['preprocessed_titles'].values) # transforming train set \n",
    "X_cv_title_tfidf=vectorizer.transform(X_cv['preprocessed_titles'].values)  # transforming cross validation set \n",
    "X_test_title_tfidf=vectorizer.transform(X_test['preprocessed_titles'].values) # transforming test test \n",
    "\n",
    "\n",
    "print(X_cv_title_tfidf.shape)\n",
    "print(X_cv_title_tfidf.shape)\n",
    "print(X_test_title_tfidf.shape)\n",
    "\n"
   ]
  },
  {
   "cell_type": "markdown",
   "metadata": {},
   "source": [
    "# TFIDF of preprocessed_resource_summary"
   ]
  },
  {
   "cell_type": "code",
   "execution_count": 23,
   "metadata": {},
   "outputs": [
    {
     "name": "stdout",
     "output_type": "stream",
     "text": [
      "(24146, 5000)\n",
      "(24146, 5000)\n",
      "(36038, 5000)\n"
     ]
    }
   ],
   "source": [
    "vectorizer = TfidfVectorizer(min_df=10,ngram_range=(1,4), max_features=5000)\n",
    "\n",
    "vectorizer.fit(X_train['preprocessed_resource_summary'].values) #fitting on train set \n",
    "\n",
    "x_train_summ_tfidf=vectorizer.transform(X_train['preprocessed_resource_summary'].values) # transforming train set \n",
    "X_cv_summ_tfidf=vectorizer.transform(X_cv['preprocessed_resource_summary'].values)  # transforming cross validation set \n",
    "X_test_summ_tfidf=vectorizer.transform(X_test['preprocessed_resource_summary'].values) # transforming test test \n",
    "\n",
    "\n",
    "print(X_cv_summ_tfidf.shape)\n",
    "print(X_cv_summ_tfidf.shape)\n",
    "print(X_test_summ_tfidf.shape)\n",
    "\n",
    "\n"
   ]
  },
  {
   "cell_type": "markdown",
   "metadata": {},
   "source": [
    "# Concatenating all the features"
   ]
  },
  {
   "cell_type": "code",
   "execution_count": 24,
   "metadata": {},
   "outputs": [
    {
     "name": "stdout",
     "output_type": "stream",
     "text": [
      "Final Data matrix\n",
      "(49021, 13414) (49021,)\n",
      "(24146, 13414) (24146,)\n",
      "(36038, 13414) (36038,)\n",
      "====================================================================================================\n"
     ]
    }
   ],
   "source": [
    "#this code section is used as it is from given assignment description with some changes\n",
    "\n",
    "# merge two sparse matrices: https://stackoverflow.com/a/19710648/4084039\n",
    "from scipy.sparse import hstack\n",
    "X_tr = hstack((X_train_essay_tfidf,x_train_title_tfidf,x_train_summ_tfidf,\\\n",
    "               X_train['school_state_class0'].values.reshape(-1,1),X_train['school_state_class1'].values.reshape(-1,1), \\\n",
    "               X_train['teacher_prefix_class0'].values.reshape(-1,1),X_train['teacher_prefix_class1'].values.reshape(-1,1), \\\n",
    "               X_train['project_grade_category_class0'].values.reshape(-1,1),X_train['project_grade_category_class1'].values.reshape(-1,1),\\\n",
    "               X_train['price'].values.reshape(-1,1),\\\n",
    "               X_train['teacher_number_of_previously_posted_projects'].values.reshape(-1,1),\\\n",
    "               X_train['quantity'].values.reshape(-1,1),\\\n",
    "               X_train['project_subject_subcategories_class0'].values.reshape(-1,1),X_train['project_subject_subcategories_class1'].values.reshape(-1,1),\\\n",
    "               X_train['project_subject_categories_class0'].values.reshape(-1,1),X_train['project_subject_categories_class1'].values.reshape(-1,1),\\\n",
    "               X_train['Sentiment_neg'].values.reshape(-1,1),\\\n",
    "               X_train['Sentiment_pos'].values.reshape(-1,1),\\\n",
    "               X_train['Sentiment_neu'].values.reshape(-1,1),\\\n",
    "               X_train['Sentiment_comp'].values.reshape(-1,1),\\\n",
    "               X_train['number_present'].values.reshape(-1,1))).tocsr()\n",
    "\n",
    "\n",
    "X_cr = hstack((X_cv_essay_tfidf,X_cv_title_tfidf,X_cv_summ_tfidf, \\\n",
    "               X_cv['school_state_class0'].values.reshape(-1,1),X_cv['school_state_class1'].values.reshape(-1,1), \\\n",
    "               X_cv['teacher_prefix_class0'].values.reshape(-1,1),X_cv['teacher_prefix_class1'].values.reshape(-1,1), \\\n",
    "               X_cv['project_grade_category_class0'].values.reshape(-1,1),X_cv['project_grade_category_class1'].values.reshape(-1,1),\\\n",
    "               X_cv['price'].values.reshape(-1,1),\\\n",
    "               X_cv['teacher_number_of_previously_posted_projects'].values.reshape(-1,1),\\\n",
    "               X_cv['quantity'].values.reshape(-1,1),\\\n",
    "               X_cv['project_subject_subcategories_class0'].values.reshape(-1,1),X_cv['project_subject_subcategories_class1'].values.reshape(-1,1),\\\n",
    "               X_cv['project_subject_categories_class0'].values.reshape(-1,1),X_cv['project_subject_categories_class1'].values.reshape(-1,1),\\\n",
    "               X_cv['Sentiment_neg'].values.reshape(-1,1),\\\n",
    "               X_cv['Sentiment_pos'].values.reshape(-1,1),\\\n",
    "               X_cv['Sentiment_neu'].values.reshape(-1,1),\\\n",
    "               X_cv['Sentiment_comp'].values.reshape(-1,1),\\\n",
    "               X_cv['number_present'].values.reshape(-1,1))).tocsr()\n",
    "\n",
    "\n",
    "\n",
    "X_te = hstack((X_test_essay_tfidf,X_test_title_tfidf,X_test_summ_tfidf,\\\n",
    "               X_test['school_state_class0'].values.reshape(-1,1),X_test['school_state_class1'].values.reshape(-1,1), \\\n",
    "               X_test['teacher_prefix_class0'].values.reshape(-1,1),X_test['teacher_prefix_class1'].values.reshape(-1,1), \\\n",
    "               X_test['project_grade_category_class0'].values.reshape(-1,1),X_test['project_grade_category_class1'].values.reshape(-1,1),\\\n",
    "               X_test['price'].values.reshape(-1,1),\\\n",
    "               X_test['teacher_number_of_previously_posted_projects'].values.reshape(-1,1),\\\n",
    "               X_test['quantity'].values.reshape(-1,1),\\\n",
    "               X_test['project_subject_subcategories_class0'].values.reshape(-1,1),X_test['project_subject_subcategories_class1'].values.reshape(-1,1),\\\n",
    "               X_test['project_subject_categories_class0'].values.reshape(-1,1),X_test['project_subject_categories_class1'].values.reshape(-1,1),\\\n",
    "               X_test['Sentiment_neg'].values.reshape(-1,1),\\\n",
    "               X_test['Sentiment_pos'].values.reshape(-1,1),\\\n",
    "               X_test['Sentiment_neu'].values.reshape(-1,1),\\\n",
    "               X_test['Sentiment_comp'].values.reshape(-1,1),\\\n",
    "               X_test['number_present'].values.reshape(-1,1))).tocsr()\n",
    "\n",
    "print(\"Final Data matrix\")\n",
    "print(X_tr.shape, y_train.shape)\n",
    "print(X_cr.shape, y_cv.shape)\n",
    "print(X_te.shape, y_test.shape)\n",
    "print(\"=\"*100)"
   ]
  },
  {
   "cell_type": "markdown",
   "metadata": {},
   "source": [
    "# Hyperparameter tunning "
   ]
  },
  {
   "cell_type": "code",
   "execution_count": 25,
   "metadata": {},
   "outputs": [
    {
     "name": "stderr",
     "output_type": "stream",
     "text": [
      "100%|███████████████████████████████████████████████████████████████████████████████████| 5/5 [39:12<00:00, 470.55s/it]\n"
     ]
    },
    {
     "data": {
      "text/plain": [
       "[Text(570.5454545454544, 0.5, 'learning_rate'),\n",
       " Text(0.5, 24.0, 'Number_of_model'),\n",
       " Text(0.5, 1.0, 'cv set')]"
      ]
     },
     "execution_count": 25,
     "metadata": {},
     "output_type": "execute_result"
    },
    {
     "data": {
      "image/png": "[encoded data removed]",
      "text/plain": [
       "<Figure size 1080x360 with 4 Axes>"
      ]
     },
     "metadata": {
      "needs_background": "light"
     },
     "output_type": "display_data"
    }
   ],
   "source": [
    "# grid search using simple for loop for different value of parameters\n",
    "\n",
    "from sklearn.metrics import roc_auc_score\n",
    "#list to store AUC score for different hyperparameter\n",
    "train_auc = []\n",
    "cv_auc = []\n",
    "\n",
    "#parameters\n",
    "Number_of_model= [10,50,100,200,300]\n",
    "learning_rate=[0.0001,0.001,0.01,0.1,1]\n",
    "\n",
    "for i in tqdm(Number_of_model):\n",
    "    l_train=[]\n",
    "    l_cv=[]\n",
    "    for j in learning_rate:\n",
    "           \n",
    "        clf = xgb.XGBClassifier(n_estimators=i,learning_rate=j,booster='gbtree',subsample=0.5,colsample_bytree=0.5,reg_lambda=0.01,eval_metric= 'logloss',use_label_encoder=False)\n",
    "        clf.fit(X_tr,y_train)\n",
    "\n",
    "        #predicting the probability score for train and cross validate set \n",
    "        y_train_proba=clf.predict_proba(X_tr)\n",
    "        y_CV_proba=clf.predict_proba(X_cr)\n",
    "\n",
    "        #storing the hyperparameter\n",
    "        \n",
    "        l_train.append(roc_auc_score(y_train,y_train_proba[:,1]))\n",
    "        l_cv.append(roc_auc_score(y_cv,y_CV_proba[:,1]))\n",
    "        \n",
    "    train_auc.append(l_train)\n",
    "    cv_auc.append(l_cv)\n",
    "\n",
    "arr_train=np.asarray(train_auc)\n",
    "arr_cv=np.asarray(cv_auc)\n",
    "\n",
    "fig,axes=plt.subplots(1,2,figsize=(15,5))\n",
    "sns.heatmap(arr_train.T,xticklabels=Number_of_model,yticklabels=learning_rate,annot=True,ax=axes[0],fmt='.4g').set(xlabel='Number_of_model',ylabel='learning_rate',title='Train set')\n",
    "sns.heatmap(arr_cv.T,xticklabels=Number_of_model,yticklabels=learning_rate,annot=True,ax=axes[1],fmt='.4g').set(xlabel='Number_of_model',ylabel='learning_rate',title='cv set')\n"
   ]
  },
  {
   "cell_type": "markdown",
   "metadata": {},
   "source": [
    "- At Number_of_model= 100\n",
    "- At learning_rate =0.1"
   ]
  },
  {
   "cell_type": "markdown",
   "metadata": {},
   "source": [
    "# Performing GBDT"
   ]
  },
  {
   "cell_type": "code",
   "execution_count": 26,
   "metadata": {},
   "outputs": [
    {
     "data": {
      "image/png": "[encoded data removed]",
      "text/plain": [
       "<Figure size 432x288 with 1 Axes>"
      ]
     },
     "metadata": {
      "needs_background": "light"
     },
     "output_type": "display_data"
    }
   ],
   "source": [
    "from sklearn import metrics\n",
    "# for roc curve \n",
    "\n",
    "\n",
    "\n",
    "clf = xgb.XGBClassifier(objective ='binary:logistic',n_estimators=100,learning_rate=0.1,booster='gbtree',subsample=0.5,colsample_bytree=0.7,reg_lambda=0.01,eval_metric= 'logloss',\\\n",
    "                       use_label_encoder=False)\n",
    "clf.fit(X_tr,y_train)\n",
    "    \n",
    "#predicting the probability score for train and cross validate set \n",
    "y_test_proba=clf.predict_proba(X_te)\n",
    "y_train_proba=clf.predict_proba(X_tr)\n",
    "test_AUC_score_tfidf=roc_auc_score(y_test,y_test_proba[:,1])\n",
    "train_AUC_score_tfidf=roc_auc_score(y_train,y_train_proba[:,1])\n",
    "fpr, tpr, thresholds = metrics.roc_curve(y_test,y_test_proba[:,1], pos_label=1)\n",
    "fpr1, tpr1, thresholds1 = metrics.roc_curve(y_train,y_train_proba[:,1], pos_label=1)\n",
    "\n",
    "plt.plot(fpr,tpr,label='Test = '+str(test_AUC_score_tfidf))\n",
    "plt.plot(fpr1,tpr1,label='Train = '+str(train_AUC_score_tfidf))\n",
    "plt.legend()\n",
    "plt.xlabel('FPR')\n",
    "plt.ylabel('TPR')\n",
    "plt.title('ROC Curve')\n",
    "plt.grid()\n",
    "plt.show()"
   ]
  },
  {
   "cell_type": "markdown",
   "metadata": {},
   "source": [
    "# Confusion matrix"
   ]
  },
  {
   "cell_type": "code",
   "execution_count": 28,
   "metadata": {},
   "outputs": [
    {
     "data": {
      "text/plain": [
       "Text(0.5, 1.0, 'Cnfusion Matrix')"
      ]
     },
     "execution_count": 28,
     "metadata": {},
     "output_type": "execute_result"
    },
    {
     "data": {
      "image/png": "[encoded data removed]",
      "text/plain": [
       "<Figure size 432x288 with 1 Axes>"
      ]
     },
     "metadata": {},
     "output_type": "display_data"
    }
   ],
   "source": [
    "from sklearn.metrics import confusion_matrix\n",
    "\n",
    "y_test_ped=clf.predict(X_te)\n",
    "conf_matrix=confusion_matrix(y_test,y_test_ped,labels=[1,0])\n",
    "con=pd.DataFrame(conf_matrix,index=['Actual: Yes',\"Actual:No\"],columns=['Predicted:Yes','Predicted:No'])\n",
    "sns.set(font_scale=1.4)\n",
    "sns.heatmap(con,annot=True,cmap=\"YlOrBr\",cbar=False,fmt='g',annot_kws={\"size\": 18})\n",
    "plt.title('Cnfusion Matrix')\n"
   ]
  },
  {
   "cell_type": "markdown",
   "metadata": {},
   "source": [
    "\n",
    "\n",
    "\n",
    "\n",
    "# SET:2 TFIDF W2V"
   ]
  },
  {
   "cell_type": "code",
   "execution_count": 29,
   "metadata": {},
   "outputs": [],
   "source": [
    "# stronging variables into pickle files python: http://www.jessicayung.com/how-to-use-pickle-to-save-and-load-variables-in-python/\n",
    "# make sure you have the glove_vectors file\n",
    "with open('glove_vectors', 'rb') as f:\n",
    "    model = pickle.load(f)\n",
    "    glove_words =  set(model.keys())"
   ]
  },
  {
   "cell_type": "markdown",
   "metadata": {},
   "source": [
    "# TFIDF W2V preprocessed_essays\n"
   ]
  },
  {
   "cell_type": "code",
   "execution_count": 30,
   "metadata": {},
   "outputs": [],
   "source": [
    "#creating tfidf vector on train data set\n",
    "tfidf_model = TfidfVectorizer()\n",
    "tfidf_model.fit(X_train['preprocessed_essays'].values)\n",
    "# we are converting a dictionary with word as a key, and the idf as a value\n",
    "dictionary = dict(zip(tfidf_model.get_feature_names(), list(tfidf_model.idf_)))\n",
    "tfidf_words = set(tfidf_model.get_feature_names()) #creating the vocab"
   ]
  },
  {
   "cell_type": "code",
   "execution_count": 31,
   "metadata": {},
   "outputs": [
    {
     "name": "stderr",
     "output_type": "stream",
     "text": [
      "100%|███████████████████████████████████████████████████████████████████████████| 49021/49021 [03:22<00:00, 242.61it/s]"
     ]
    },
    {
     "name": "stdout",
     "output_type": "stream",
     "text": [
      "49021\n",
      "300\n"
     ]
    },
    {
     "name": "stderr",
     "output_type": "stream",
     "text": [
      "\n"
     ]
    }
   ],
   "source": [
    "#this code is taken from assignment description\n",
    "# average Word2Vec\n",
    "# compute average word2vec for each review.\n",
    "# for essay train data set\n",
    "tfidf_w2v_vectors_train = []; # the avg-w2v for each sentence/review is stored in this list\n",
    "for sentence in tqdm(X_train['preprocessed_essays'].values): # for each review/sentence\n",
    "    vector = np.zeros(300) # as word vectors are of zero length\n",
    "    tf_idf_weight =0; # num of words with a valid vector in the sentence/review\n",
    "    for word in sentence.split(): # for each word in a review/sentence\n",
    "        if (word in glove_words) and (word in tfidf_words):\n",
    "            vec = model[word] # getting the vector for each word\n",
    "            # here we are multiplying idf value(dictionary[word]) and the tf value((sentence.count(word)/len(sentence.split())))\n",
    "            tf_idf = dictionary[word]*(sentence.count(word)/len(sentence.split())) # getting the tfidf value for each word\n",
    "            vector += (vec * tf_idf) # calculating tfidf weighted w2v\n",
    "            tf_idf_weight += tf_idf\n",
    "    if tf_idf_weight != 0:\n",
    "        vector /= tf_idf_weight\n",
    "    tfidf_w2v_vectors_train.append(vector)\n",
    "\n",
    "print(len(tfidf_w2v_vectors_train))\n",
    "print(len(tfidf_w2v_vectors_train[0]))"
   ]
  },
  {
   "cell_type": "code",
   "execution_count": 32,
   "metadata": {},
   "outputs": [
    {
     "name": "stderr",
     "output_type": "stream",
     "text": [
      "100%|███████████████████████████████████████████████████████████████████████████| 24146/24146 [01:40<00:00, 241.03it/s]"
     ]
    },
    {
     "name": "stdout",
     "output_type": "stream",
     "text": [
      "24146\n",
      "300\n"
     ]
    },
    {
     "name": "stderr",
     "output_type": "stream",
     "text": [
      "\n"
     ]
    }
   ],
   "source": [
    "#for essay cv data set\n",
    "# average Word2Vec\n",
    "# compute average word2vec for each review.\n",
    "tfidf_w2v_vectors_cv = []; # the avg-w2v for each sentence/review is stored in this list\n",
    "for sentence in tqdm(X_cv['preprocessed_essays'].values): # for each review/sentence\n",
    "    vector = np.zeros(300) # as word vectors are of zero length\n",
    "    tf_idf_weight =0; # num of words with a valid vector in the sentence/review\n",
    "    for word in sentence.split(): # for each word in a review/sentence\n",
    "        if (word in glove_words) and (word in tfidf_words):\n",
    "            vec = model[word] # getting the vector for each word\n",
    "            # here we are multiplying idf value(dictionary[word]) and the tf value((sentence.count(word)/len(sentence.split())))\n",
    "            tf_idf = dictionary[word]*(sentence.count(word)/len(sentence.split())) # getting the tfidf value for each word\n",
    "            vector += (vec * tf_idf) # calculating tfidf weighted w2v\n",
    "            tf_idf_weight += tf_idf\n",
    "    if tf_idf_weight != 0:\n",
    "        vector /= tf_idf_weight\n",
    "    tfidf_w2v_vectors_cv.append(vector)\n",
    "\n",
    "print(len(tfidf_w2v_vectors_cv))\n",
    "print(len(tfidf_w2v_vectors_cv[0]))"
   ]
  },
  {
   "cell_type": "code",
   "execution_count": 33,
   "metadata": {},
   "outputs": [
    {
     "name": "stderr",
     "output_type": "stream",
     "text": [
      "100%|███████████████████████████████████████████████████████████████████████████| 36038/36038 [02:35<00:00, 231.57it/s]"
     ]
    },
    {
     "name": "stdout",
     "output_type": "stream",
     "text": [
      "36038\n",
      "300\n"
     ]
    },
    {
     "name": "stderr",
     "output_type": "stream",
     "text": [
      "\n"
     ]
    }
   ],
   "source": [
    "# for essay test data set\n",
    "# average Word2Vec\n",
    "# compute average word2vec for each review.\n",
    "tfidf_w2v_vectors_test = []; # the avg-w2v for each sentence/review is stored in this list\n",
    "for sentence in tqdm(X_test['preprocessed_essays'].values): # for each review/sentence\n",
    "    vector = np.zeros(300) # as word vectors are of zero length\n",
    "    tf_idf_weight =0; # num of words with a valid vector in the sentence/review\n",
    "    for word in sentence.split(): # for each word in a review/sentence\n",
    "        if (word in glove_words) and (word in tfidf_words):\n",
    "            vec = model[word] # getting the vector for each word\n",
    "            # here we are multiplying idf value(dictionary[word]) and the tf value((sentence.count(word)/len(sentence.split())))\n",
    "            tf_idf = dictionary[word]*(sentence.count(word)/len(sentence.split())) # getting the tfidf value for each word\n",
    "            vector += (vec * tf_idf) # calculating tfidf weighted w2v\n",
    "            tf_idf_weight += tf_idf\n",
    "    if tf_idf_weight != 0:\n",
    "        vector /= tf_idf_weight\n",
    "    tfidf_w2v_vectors_test.append(vector)\n",
    "\n",
    "print(len(tfidf_w2v_vectors_test))\n",
    "print(len(tfidf_w2v_vectors_test[0]))"
   ]
  },
  {
   "cell_type": "markdown",
   "metadata": {},
   "source": [
    "# TFIDF W2V TITLE"
   ]
  },
  {
   "cell_type": "code",
   "execution_count": 34,
   "metadata": {},
   "outputs": [],
   "source": [
    "tfidf_model = TfidfVectorizer()\n",
    "tfidf_model.fit(X_train['preprocessed_titles'].values)\n",
    "# we are converting a dictionary with word as a key, and the idf as a value\n",
    "dictionary = dict(zip(tfidf_model.get_feature_names(), list(tfidf_model.idf_)))\n",
    "tfidf_words = set(tfidf_model.get_feature_names()) #creating the vocab"
   ]
  },
  {
   "cell_type": "code",
   "execution_count": 35,
   "metadata": {},
   "outputs": [
    {
     "name": "stderr",
     "output_type": "stream",
     "text": [
      "100%|█████████████████████████████████████████████████████████████████████████| 49021/49021 [00:03<00:00, 14581.24it/s]\n",
      "  5%|███▋                                                                      | 1212/24146 [00:00<00:02, 11297.89it/s]"
     ]
    },
    {
     "name": "stdout",
     "output_type": "stream",
     "text": [
      "49021\n",
      "300\n",
      "/n\n"
     ]
    },
    {
     "name": "stderr",
     "output_type": "stream",
     "text": [
      "100%|█████████████████████████████████████████████████████████████████████████| 24146/24146 [00:01<00:00, 15015.35it/s]\n",
      "  5%|███▌                                                                      | 1720/36038 [00:00<00:02, 16741.09it/s]"
     ]
    },
    {
     "name": "stdout",
     "output_type": "stream",
     "text": [
      "24146\n",
      "300\n",
      "/n\n"
     ]
    },
    {
     "name": "stderr",
     "output_type": "stream",
     "text": [
      "100%|█████████████████████████████████████████████████████████████████████████| 36038/36038 [00:02<00:00, 15783.56it/s]"
     ]
    },
    {
     "name": "stdout",
     "output_type": "stream",
     "text": [
      "36038\n",
      "300\n",
      "/n\n"
     ]
    },
    {
     "name": "stderr",
     "output_type": "stream",
     "text": [
      "\n"
     ]
    }
   ],
   "source": [
    "#creating list for storing the vectors \n",
    "tfidf_w2v_title_train=[]\n",
    "tfidf_w2v_title_cv=[]\n",
    "tfidf_w2v_title_test=[]\n",
    "\n",
    "\n",
    "\n",
    "for i,j in [(tfidf_w2v_title_train,X_train),(tfidf_w2v_title_cv,X_cv),(tfidf_w2v_title_test,X_test)]:\n",
    "    \n",
    "\n",
    "     # the avg-w2v for each sentence/review is stored in this list\n",
    "    for sentence in tqdm(j['preprocessed_titles'].values): # for each review/sentence\n",
    "        vector = np.zeros(300) # as word vectors are of zero length\n",
    "        tf_idf_weight =0; # num of words with a valid vector in the sentence/review\n",
    "        for word in sentence.split(): # for each word in a review/sentence\n",
    "            if (word in glove_words) and (word in tfidf_words):\n",
    "                vec = model[word] # getting the vector for each word\n",
    "                # here we are multiplying idf value(dictionary[word]) and the tf value((sentence.count(word)/len(sentence.split())))\n",
    "                tf_idf = dictionary[word]*(sentence.count(word)/len(sentence.split())) # getting the tfidf value for each word\n",
    "                vector += (vec * tf_idf) # calculating tfidf weighted w2v\n",
    "                tf_idf_weight += tf_idf\n",
    "        if tf_idf_weight != 0:\n",
    "            vector /= tf_idf_weight\n",
    "        i.append(vector)\n",
    "\n",
    "    print(len(i))\n",
    "    print(len(i[0]))\n",
    "    print('/n')"
   ]
  },
  {
   "cell_type": "markdown",
   "metadata": {},
   "source": [
    "# TFIDF W2V OF resource_summary"
   ]
  },
  {
   "cell_type": "code",
   "execution_count": 36,
   "metadata": {},
   "outputs": [],
   "source": [
    "tfidf_model = TfidfVectorizer()\n",
    "tfidf_model.fit(X_train['preprocessed_resource_summary'].values)\n",
    "# we are converting a dictionary with word as a key, and the idf as a value\n",
    "dictionary = dict(zip(tfidf_model.get_feature_names(), list(tfidf_model.idf_)))\n",
    "tfidf_words = set(tfidf_model.get_feature_names()) #creating the vocab"
   ]
  },
  {
   "cell_type": "code",
   "execution_count": 37,
   "metadata": {},
   "outputs": [
    {
     "name": "stderr",
     "output_type": "stream",
     "text": [
      "100%|██████████████████████████████████████████████████████████████████████████| 49021/49021 [00:09<00:00, 5440.61it/s]\n",
      "  3%|██                                                                          | 660/24146 [00:00<00:03, 6562.67it/s]"
     ]
    },
    {
     "name": "stdout",
     "output_type": "stream",
     "text": [
      "49021\n",
      "300\n",
      "\n",
      "\n"
     ]
    },
    {
     "name": "stderr",
     "output_type": "stream",
     "text": [
      "100%|██████████████████████████████████████████████████████████████████████████| 24146/24146 [00:04<00:00, 5399.96it/s]\n",
      "  3%|██                                                                         | 1004/36038 [00:00<00:07, 4677.64it/s]"
     ]
    },
    {
     "name": "stdout",
     "output_type": "stream",
     "text": [
      "24146\n",
      "300\n",
      "\n",
      "\n"
     ]
    },
    {
     "name": "stderr",
     "output_type": "stream",
     "text": [
      "100%|██████████████████████████████████████████████████████████████████████████| 36038/36038 [00:06<00:00, 5167.89it/s]"
     ]
    },
    {
     "name": "stdout",
     "output_type": "stream",
     "text": [
      "36038\n",
      "300\n",
      "\n",
      "\n"
     ]
    },
    {
     "name": "stderr",
     "output_type": "stream",
     "text": [
      "\n"
     ]
    }
   ],
   "source": [
    "tfidf_w2v_summ_train=[]\n",
    "tfidf_w2v_summ_cv=[]\n",
    "tfidf_w2v_summ_test=[]\n",
    "\n",
    "for i,j in [(tfidf_w2v_summ_train,X_train),(tfidf_w2v_summ_cv,X_cv),(tfidf_w2v_summ_test,X_test)]:\n",
    "    \n",
    "\n",
    "     # the avg-w2v for each sentence/review is stored in this list\n",
    "    for sentence in tqdm(j['preprocessed_resource_summary'].values): # for each review/sentence\n",
    "        vector = np.zeros(300) # as word vectors are of zero length\n",
    "        tf_idf_weight =0; # num of words with a valid vector in the sentence/review\n",
    "        for word in sentence.split(): # for each word in a review/sentence\n",
    "            if (word in glove_words) and (word in tfidf_words):\n",
    "                vec = model[word] # getting the vector for each word\n",
    "                # here we are multiplying idf value(dictionary[word]) and the tf value((sentence.count(word)/len(sentence.split())))\n",
    "                tf_idf = dictionary[word]*(sentence.count(word)/len(sentence.split())) # getting the tfidf value for each word\n",
    "                vector += (vec * tf_idf) # calculating tfidf weighted w2v\n",
    "                tf_idf_weight += tf_idf\n",
    "        if tf_idf_weight != 0:\n",
    "            vector /= tf_idf_weight\n",
    "        i.append(vector)\n",
    "\n",
    "    print(len(i))\n",
    "    print(len(i[0]))\n",
    "    print('\\n')"
   ]
  },
  {
   "cell_type": "markdown",
   "metadata": {},
   "source": [
    "# Concatenating columns"
   ]
  },
  {
   "cell_type": "code",
   "execution_count": 38,
   "metadata": {},
   "outputs": [
    {
     "name": "stdout",
     "output_type": "stream",
     "text": [
      "Final Data matrix\n",
      "(49021, 914) (49021,)\n",
      "(24146, 914) (24146,)\n",
      "(36038, 914) (36038,)\n",
      "====================================================================================================\n"
     ]
    }
   ],
   "source": [
    "# merge two sparse matrices: https://stackoverflow.com/a/19710648/4084039\n",
    "from scipy.sparse import hstack\n",
    "X_tr = hstack((sparse.csr_matrix(np.array(tfidf_w2v_vectors_train)),\\\n",
    "               sparse.csr_matrix(np.array(tfidf_w2v_title_train)),\\\n",
    "               sparse.csr_matrix(np.array(tfidf_w2v_summ_train)),\\\n",
    "               X_train['school_state_class0'].values.reshape(-1,1),X_train['school_state_class1'].values.reshape(-1,1), \\\n",
    "               X_train['teacher_prefix_class0'].values.reshape(-1,1),X_train['teacher_prefix_class1'].values.reshape(-1,1), \\\n",
    "               X_train['project_grade_category_class0'].values.reshape(-1,1),X_train['project_grade_category_class1'].values.reshape(-1,1),\\\n",
    "               X_train['price'].values.reshape(-1,1),\\\n",
    "               X_train['teacher_number_of_previously_posted_projects'].values.reshape(-1,1),\\\n",
    "               X_train['quantity'].values.reshape(-1,1),\\\n",
    "               X_train['project_subject_subcategories_class0'].values.reshape(-1,1),X_train['project_subject_subcategories_class1'].values.reshape(-1,1),\\\n",
    "               X_train['project_subject_categories_class0'].values.reshape(-1,1),X_train['project_subject_categories_class1'].values.reshape(-1,1),\\\n",
    "               X_train['number_present'].values.reshape(-1,1))).tocsr()\n",
    "\n",
    "\n",
    "X_cr = hstack((sparse.csr_matrix(np.array(tfidf_w2v_vectors_cv)),\\\n",
    "               sparse.csr_matrix(np.array(tfidf_w2v_title_cv)),\\\n",
    "               sparse.csr_matrix(np.array(tfidf_w2v_summ_cv)),\\\n",
    "               X_cv['school_state_class0'].values.reshape(-1,1),X_cv['school_state_class1'].values.reshape(-1,1), \\\n",
    "               X_cv['teacher_prefix_class0'].values.reshape(-1,1),X_cv['teacher_prefix_class1'].values.reshape(-1,1), \\\n",
    "               X_cv['project_grade_category_class0'].values.reshape(-1,1),X_cv['project_grade_category_class1'].values.reshape(-1,1),\\\n",
    "               X_cv['price'].values.reshape(-1,1),\\\n",
    "               X_cv['teacher_number_of_previously_posted_projects'].values.reshape(-1,1),\\\n",
    "               X_cv['quantity'].values.reshape(-1,1),\\\n",
    "               X_cv['project_subject_subcategories_class0'].values.reshape(-1,1),X_cv['project_subject_subcategories_class1'].values.reshape(-1,1),\\\n",
    "               X_cv['project_subject_categories_class0'].values.reshape(-1,1),X_cv['project_subject_categories_class1'].values.reshape(-1,1),\\\n",
    "               X_cv['number_present'].values.reshape(-1,1))).tocsr()\n",
    "\n",
    "\n",
    "\n",
    "X_te = hstack((sparse.csr_matrix(np.array(tfidf_w2v_vectors_test)),\\\n",
    "               sparse.csr_matrix(np.array(tfidf_w2v_title_test)),\\\n",
    "               sparse.csr_matrix(np.array(tfidf_w2v_summ_test)),\\\n",
    "               X_test['school_state_class0'].values.reshape(-1,1),X_test['school_state_class1'].values.reshape(-1,1), \\\n",
    "               X_test['teacher_prefix_class0'].values.reshape(-1,1),X_test['teacher_prefix_class1'].values.reshape(-1,1), \\\n",
    "               X_test['project_grade_category_class0'].values.reshape(-1,1),X_test['project_grade_category_class1'].values.reshape(-1,1),\\\n",
    "               X_test['price'].values.reshape(-1,1),\\\n",
    "               X_test['teacher_number_of_previously_posted_projects'].values.reshape(-1,1),\\\n",
    "               X_test['quantity'].values.reshape(-1,1),\\\n",
    "               X_test['project_subject_subcategories_class0'].values.reshape(-1,1),X_test['project_subject_subcategories_class1'].values.reshape(-1,1),\\\n",
    "               X_test['project_subject_categories_class0'].values.reshape(-1,1),X_test['project_subject_categories_class1'].values.reshape(-1,1),\\\n",
    "               X_test['number_present'].values.reshape(-1,1))).tocsr()\n",
    "\n",
    "print(\"Final Data matrix\")\n",
    "print(X_tr.shape, y_train.shape)\n",
    "print(X_cr.shape, y_cv.shape)\n",
    "print(X_te.shape, y_test.shape)\n",
    "print(\"=\"*100)"
   ]
  },
  {
   "cell_type": "markdown",
   "metadata": {},
   "source": [
    "# Hyperparameter Tuning "
   ]
  },
  {
   "cell_type": "code",
   "execution_count": 39,
   "metadata": {},
   "outputs": [
    {
     "name": "stderr",
     "output_type": "stream",
     "text": [
      "100%|████████████████████████████████████████████████████████████████████████████████| 5/5 [3:05:03<00:00, 2220.64s/it]\n"
     ]
    },
    {
     "data": {
      "text/plain": [
       "[Text(564.0454545454544, 0.5, 'learning_rate'),\n",
       " Text(0.5, 17.5, 'Number_of_model'),\n",
       " Text(0.5, 1.0, 'cv set')]"
      ]
     },
     "execution_count": 39,
     "metadata": {},
     "output_type": "execute_result"
    },
    {
     "data": {
      "image/png": "[encoded data removed]",
      "text/plain": [
       "<Figure size 1080x360 with 4 Axes>"
      ]
     },
     "metadata": {},
     "output_type": "display_data"
    }
   ],
   "source": [
    "\n",
    "from sklearn.metrics import roc_auc_score\n",
    "#list to store AUC score for different hyperparameter\n",
    "train_auc = []\n",
    "cv_auc = []\n",
    "\n",
    "#parameters\n",
    "Number_of_model= [10,50,100,200,300]\n",
    "learning_rate=[0.0001,0.001,0.01,0.1,1]\n",
    "\n",
    "\n",
    "for i in tqdm(Number_of_model):\n",
    "    l_train=[]\n",
    "    l_cv=[]\n",
    "    for j in learning_rate:\n",
    "        \n",
    "        clf = xgb.XGBClassifier(n_estimators=i,learning_rate=j,booster='gbtree',subsample=0.5,colsample_bytree=0.7,reg_lambda=0.001,eval_metric= 'logloss',use_label_encoder=False)\n",
    "        clf.fit(X_tr,y_train)\n",
    "\n",
    "        #predicting the probability score for train and cross validate set \n",
    "        y_train_proba=clf.predict_proba(X_tr)\n",
    "        y_CV_proba=clf.predict_proba(X_cr)\n",
    "\n",
    "        #storing the hyperparameter\n",
    "        \n",
    "        l_train.append(roc_auc_score(y_train,y_train_proba[:,1]))\n",
    "        l_cv.append(roc_auc_score(y_cv,y_CV_proba[:,1]))\n",
    "        \n",
    "    train_auc.append(l_train)\n",
    "    cv_auc.append(l_cv)\n",
    "\n",
    "arr_train=np.asarray(train_auc)\n",
    "arr_cv=np.asarray(cv_auc)\n",
    "\n",
    "fig,axes=plt.subplots(1,2,figsize=(15,5))\n",
    "sns.heatmap(arr_train.T,xticklabels=Number_of_model,yticklabels=learning_rate,annot=True,ax=axes[0],fmt='.4g').set(xlabel='Number_of_model',ylabel='learning_rate',title='Train set')\n",
    "sns.heatmap(arr_cv.T,xticklabels=Number_of_model,yticklabels=learning_rate,annot=True,ax=axes[1],fmt='.4g').set(xlabel='Number_of_model',ylabel='learning_rate',title='cv set')\n"
   ]
  },
  {
   "cell_type": "markdown",
   "metadata": {},
   "source": [
    "## Heat map"
   ]
  },
  {
   "cell_type": "markdown",
   "metadata": {},
   "source": [
    "- At Number_of_model= 100\n",
    "- At learning_rate =0.1"
   ]
  },
  {
   "cell_type": "markdown",
   "metadata": {},
   "source": [
    "# Performing GBDT"
   ]
  },
  {
   "cell_type": "code",
   "execution_count": 40,
   "metadata": {},
   "outputs": [
    {
     "data": {
      "image/png": "[encoded data removed]",
      "text/plain": [
       "<Figure size 432x288 with 1 Axes>"
      ]
     },
     "metadata": {},
     "output_type": "display_data"
    }
   ],
   "source": [
    "from sklearn import metrics\n",
    "# for roc curve \n",
    "\n",
    "\n",
    "clf = xgb.XGBClassifier(n_estimators=200,learning_rate=0.01,booster='gbtree',subsample=0.5,colsample_bytree=0.7,reg_lambda=0.001,eval_metric= 'logloss',use_label_encoder=False)\n",
    "clf.fit(X_tr,y_train)\n",
    "    \n",
    "#predicting the probability score for train and cross validate set \n",
    "y_test_proba=clf.predict_proba(X_te)\n",
    "y_train_proba=clf.predict_proba(X_tr)\n",
    "test_AUC_score_tfidf_w2v=roc_auc_score(y_test,y_test_proba[:,1])\n",
    "train_AUC_score_tfidf=roc_auc_score(y_train,y_train_proba[:,1])\n",
    "fpr, tpr, thresholds = metrics.roc_curve(y_test,y_test_proba[:,1], pos_label=1)\n",
    "fpr1, tpr1, thresholds1 = metrics.roc_curve(y_train,y_train_proba[:,1], pos_label=1)\n",
    "\n",
    "plt.plot(fpr,tpr,label='Test = '+str(test_AUC_score_tfidf_w2v))\n",
    "plt.plot(fpr1,tpr1,label='Train = '+str(train_AUC_score_tfidf))\n",
    "plt.legend()\n",
    "plt.xlabel('FPR')\n",
    "plt.ylabel('TPR')\n",
    "plt.title('ROC Curve')\n",
    "plt.grid()\n",
    "plt.show()"
   ]
  },
  {
   "cell_type": "markdown",
   "metadata": {},
   "source": [
    "# confusion matrix"
   ]
  },
  {
   "cell_type": "code",
   "execution_count": 41,
   "metadata": {},
   "outputs": [
    {
     "data": {
      "text/plain": [
       "Text(0.5, 1.0, 'Cnfusion Matrix')"
      ]
     },
     "execution_count": 41,
     "metadata": {},
     "output_type": "execute_result"
    },
    {
     "data": {
      "image/png": "[encoded data removed]",
      "text/plain": [
       "<Figure size 432x288 with 1 Axes>"
      ]
     },
     "metadata": {},
     "output_type": "display_data"
    }
   ],
   "source": [
    "from sklearn.metrics import confusion_matrix\n",
    "\n",
    "y_test_ped=clf.predict(X_te)\n",
    "conf_matrix=confusion_matrix(y_test,y_test_ped,labels=[1,0])\n",
    "con=pd.DataFrame(conf_matrix,index=['Actual: Yes',\"Actual:No\"],columns=['Predicted:Yes','Predicted:No'])\n",
    "sns.set(font_scale=1.4)\n",
    "sns.heatmap(con,annot=True,cmap=\"YlOrBr\",cbar=False,fmt='g',annot_kws={\"size\": 18})\n",
    "plt.title('Cnfusion Matrix')\n"
   ]
  },
  {
   "cell_type": "markdown",
   "metadata": {},
   "source": [
    "# PrettyTable"
   ]
  },
  {
   "cell_type": "code",
   "execution_count": 43,
   "metadata": {},
   "outputs": [
    {
     "name": "stdout",
     "output_type": "stream",
     "text": [
      "Tabel\n",
      "+---------------+-------+-----------+------------------+--------------------+\n",
      "|   Vectorizer  | Model | MAX DEPTH | MIN SAMPLE SPLIT |        AUC         |\n",
      "+---------------+-------+-----------+------------------+--------------------+\n",
      "|     TFIDF     |  GBDT |    100    |       0.1        | 0.7255185086485637 |\n",
      "| TFIDF AVG W2V |  GBDT |    200    |       0.01       | 0.7213881334276251 |\n",
      "+---------------+-------+-----------+------------------+--------------------+\n"
     ]
    }
   ],
   "source": [
    "# from prettytable import PrettyTable\n",
    "\n",
    "from prettytable import PrettyTable\n",
    "\n",
    "x = PrettyTable()\n",
    "x.field_names = [\"Vectorizer\",\"Model\", \"MAX DEPTH\",\"MIN SAMPLE SPLIT\",\"AUC\"]\n",
    "\n",
    "x.add_row(['TFIDF','GBDT',100,0.1,test_AUC_score_tfidf])\n",
    "\n",
    "x.add_row(['TFIDF AVG W2V','GBDT',200,0.01,test_AUC_score_tfidf_w2v])\n",
    "\n",
    "print('Tabel')\n",
    "print(x)"
   ]
  },
  {
   "cell_type": "code",
   "execution_count": null,
   "metadata": {},
   "outputs": [],
   "source": []
  }
 ],
 "metadata": {
  "kernelspec": {
   "display_name": "Python 3",
   "language": "python",
   "name": "python3"
  },
  "language_info": {
   "codemirror_mode": {
    "name": "ipython",
    "version": 3
   },
   "file_extension": ".py",
   "mimetype": "text/x-python",
   "name": "python",
   "nbconvert_exporter": "python",
   "pygments_lexer": "ipython3",
   "version": "3.8.3"
  }
 },
 "nbformat": 4,
 "nbformat_minor": 4
}
